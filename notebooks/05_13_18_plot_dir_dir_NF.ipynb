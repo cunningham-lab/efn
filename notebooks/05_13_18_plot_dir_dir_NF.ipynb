{
 "cells": [
  {
   "cell_type": "code",
   "execution_count": 1,
   "metadata": {
    "collapsed": true
   },
   "outputs": [],
   "source": [
    "%matplotlib inline\n",
    "import numpy as np\n",
    "import matplotlib\n",
    "import matplotlib.pyplot as plt\n",
    "import seaborn as sb\n",
    "from efn_util import drawEtas\n",
    "from scipy.stats import multivariate_normal\n",
    "from plot_utils import plotContourNormal, Dirichlet, draw_pdf_contours, plotContourTruncatedNormal\n",
    "import seaborn as sns\n",
    "import tensorflow as tf\n",
    "import time\n",
    "\n",
    "matplotlib.rcParams['xtick.direction'] = 'out'\n",
    "matplotlib.rcParams['ytick.direction'] = 'out'\n",
    "\n",
    "exp_fam = 'dir_dir';\n",
    "D = 3;\n",
    "flow_id = '10P';\n",
    "rs = 0;"
   ]
  },
  {
   "cell_type": "code",
   "execution_count": 2,
   "metadata": {},
   "outputs": [
    {
     "name": "stdout",
     "output_type": "stream",
     "text": [
      "INFO:tensorflow:Restoring parameters from /Users/sbittner/Documents/efn/results/MK/tb/NF1_dir_dir_D=3_flow=10P_rs=0/model\n"
     ]
    }
   ],
   "source": [
    "savedir = '/Users/sbittner/Documents/efn/results/MK/tb/NF1_%s_D=%d_flow=%s_rs=%d/' \\\n",
    "          % (exp_fam, D, flow_id, rs);\n",
    "\n",
    "# Later, launch the model, use the saver to restore variables from disk, and\n",
    "# do some work with the model.\n",
    "sess = tf.Session();\n",
    "new_saver = tf.train.import_meta_graph(savedir + 'model.meta');\n",
    "new_saver.restore(sess, tf.train.latest_checkpoint(savedir));\n",
    "Z0 = tf.get_collection('Z0')[0];\n",
    "X = tf.get_collection('X')[0];\n",
    "eta = tf.get_collection('eta')[0];\n",
    "log_p_zs = tf.get_collection('log_p_zs')[0];\n",
    "Tx_input = tf.get_collection('Tx_input')[0];"
   ]
  },
  {
   "cell_type": "code",
   "execution_count": 3,
   "metadata": {},
   "outputs": [
    {
     "name": "stdout",
     "output_type": "stream",
     "text": [
      "(1, 9)\n"
     ]
    },
    {
     "data": {
      "text/plain": [
       "<matplotlib.text.Text at 0x122381b70>"
      ]
     },
     "execution_count": 3,
     "metadata": {},
     "output_type": "execute_result"
    },
    {
     "data": {
      "image/png": "[encoded data removed]",
      "text/plain": [
       "<matplotlib.figure.Figure at 0x1222680f0>"
      ]
     },
     "metadata": {},
     "output_type": "display_data"
    }
   ],
   "source": [
    "fontsize = 14;\n",
    "size = 2;\n",
    "\n",
    "fname = savedir + 'results.npz';\n",
    "npzfile = np.load(fname);\n",
    "params = npzfile['params'][()];\n",
    "_eta = npzfile['eta'];\n",
    "_Tx_input = npzfile['Tx_input'];\n",
    "print(_eta.shape);\n",
    "_X = npzfile['X'];\n",
    "train_elbos = npzfile['train_elbos'];\n",
    "train_R2s = npzfile['train_R2s'];\n",
    "\n",
    "check_rate = 100;\n",
    "N = train_elbos.shape[0];\n",
    "K_eta = train_R2s.shape[1];\n",
    "its = check_rate*np.arange(1,N+1, dtype=float);\n",
    "its = np.tile(np.expand_dims(its, 1), [1,K_eta]);\n",
    "its_vec = np.reshape(its, (N*K_eta,));\n",
    "train_elbos_vec = np.reshape(train_elbos[:N,:], (N*K_eta,));\n",
    "train_R2s_vec = np.reshape(train_R2s[:N,:], (N*K_eta,));\n",
    "\n",
    "fig = plt.figure(figsize=(8,12));\n",
    "fig.add_subplot(2,1,1);\n",
    "plt.scatter(its_vec, train_R2s_vec,size,c='k');\n",
    "plt.xlabel('iterations', fontsize=fontsize);\n",
    "plt.xlabel('iterations', fontsize=fontsize);\n",
    "plt.ylabel('train $R^2$', fontsize=fontsize)\n",
    "plt.ylim([0,1]);\n",
    "plt.suptitle(exp_fam, fontsize=fontsize+4)\n",
    "\n",
    "fig.add_subplot(2,1,2);\n",
    "plt.scatter(its_vec, train_elbos_vec,size,c='k');\n",
    "plt.xlabel('iterations', fontsize=fontsize);\n",
    "plt.ylabel('train elbo', fontsize=fontsize)\n"
   ]
  },
  {
   "cell_type": "code",
   "execution_count": 4,
   "metadata": {},
   "outputs": [
    {
     "name": "stdout",
     "output_type": "stream",
     "text": [
      "Tensor(\"concat:0\", shape=(?, ?, 3, ?), dtype=float64)\n",
      "Tensor(\"Placeholder:0\", shape=(?, ?, 2, 1), dtype=float64)\n",
      "Tensor(\"Placeholder_1:0\", shape=(?, 9), dtype=float64)\n",
      "Tensor(\"sub_22:0\", shape=(?, ?), dtype=float64)\n"
     ]
    }
   ],
   "source": [
    "print(X);\n",
    "print(Z0);\n",
    "print(eta);\n",
    "print(log_p_zs);"
   ]
  },
  {
   "cell_type": "code",
   "execution_count": 5,
   "metadata": {
    "collapsed": true
   },
   "outputs": [],
   "source": [
    "from plot_utils import Dirichlet, draw_pdf_contours, bc2xy, xy2bc\n",
    "from scipy.stats import dirichlet\n",
    "import matplotlib.tri as tri\n",
    "corners = np.array([[0, 0], [1, 0], [0.5, 0.75**0.5]])\n",
    "triangle = tri.Triangulation(corners[:, 0], corners[:, 1])\n",
    "from efn_util import dir_dir_eta\n",
    "\n",
    "def get_dist_trimesh_probs(dist, trimesh):\n",
    "    pvals = [dist.pdf(xy2bc(xy)) for xy in zip(trimesh.x, trimesh.y)]\n",
    "    return pvals;\n",
    "\n",
    "def draw_pdf_contours(dist, trimesh, contour_levels, show_logp, **kwargs):\n",
    "    import math\n",
    "    mycm = sns.light_palette(\"navy\", as_cmap=True)\n",
    "    mycm.set_under('w')\n",
    "    pvals = get_dist_trimesh_probs(dist, trimesh);\n",
    "    if (show_logp):\n",
    "        vals = np.log(pvals);\n",
    "    else:\n",
    "        vals = pvals;\n",
    "    plt.tricontourf(trimesh, vals, contour_levels, cmap=mycm)\n",
    "    plt.axis('equal')\n",
    "    plt.xlim(0, 1)\n",
    "    plt.ylim(0, 0.75**0.5)\n",
    "    plt.axis('off')\n",
    "    \n",
    "def closest(support_point, Xgrid):\n",
    "    #constructs an nxn grid and gives back the point on the grid which, after being transformed by the network\n",
    "    #is closest to simplex_point\n",
    "    diffs = Xgrid - np.expand_dims(support_point, 0);\n",
    "    dists = np.linalg.norm(diffs, ord=2, axis=1);\n",
    "    clos_ind = np.argmin(dists);\n",
    "    return clos_ind;\n",
    "\n",
    "def plotDirichletPosterior(Xgrid, log_p_z_grid, contour_levels, show_logp):\n",
    "    sns.set_palette(sns.color_palette(\"Set1\", n_colors=8, desat=.6))\n",
    "    sns.set_style(\"whitegrid\")\n",
    "    sns.set_style(\"ticks\")\n",
    "    sns.set_context(\"notebook\", font_scale=1.5, rc={\"lines.linewidth\": 2.0})\n",
    "    sbpal = sns.color_palette()\n",
    "    \n",
    "    n_plot = len(trimesh.x);\n",
    "    log_p_trimesh = np.zeros((n_plot,));\n",
    "    start_time = time.time();\n",
    "    for i in range(n_plot):\n",
    "        support_point = np.array([trimesh.x[i], trimesh.y[i]]);\n",
    "        ind = closest(xy2bc(support_point), Xgrid);\n",
    "        log_p_z_ij = log_p_z_grid[ind];\n",
    "        log_p_trimesh[i] = log_p_z_ij;\n",
    "    end_time = time.time();\n",
    "    #print('finding closest grid probs took %.2fs' % (end_time - start_time));\n",
    "\n",
    "    mycm = sns.light_palette(\"navy\", as_cmap=True)\n",
    "    mycm.set_under('w')\n",
    "    start_time = time.time();\n",
    "    if (show_logp):\n",
    "        vals = log_p_trimesh;\n",
    "    else:\n",
    "        p_trimesh = np.exp(log_p_trimesh);\n",
    "        vals = p_trimesh;\n",
    "    plt.tricontourf(trimesh, vals, contour_levels, cmap=mycm)\n",
    "    end_time = time.time();\n",
    "    #print('drawing contour took %.2fs' % (end_time - start_time));\n",
    "    plt.axis('equal')\n",
    "    plt.xlim(0, 1)\n",
    "    plt.ylim(0, 0.75**0.5)\n",
    "    plt.axis('off')\n",
    "    return trimesh, log_p_trimesh;\n",
    "\n",
    "def gen_grid(sess, n, X, Z0, log_p_zs, eta, _eta, Tx_input, _Tx_input):\n",
    "    K = _eta.shape[0];\n",
    "    M = n*n;\n",
    "    x = np.linspace(-3.5,3.5,n)\n",
    "    _z0 = np.zeros((M,2));\n",
    "    for i in range(n):\n",
    "        for j in range(n):\n",
    "            ind = n*i+j;\n",
    "            _z0[ind,0] = x[i];\n",
    "            _z0[ind,1] = x[j];\n",
    "    z0 = np.expand_dims(np.expand_dims(_z0, 0), 3);\n",
    "    feed_dict = {Z0:z0, eta:_eta, Tx_input:_Tx_input};\n",
    "    Xgrid, log_p_z_grid = sess.run([X, log_p_zs], feed_dict);\n",
    "\n",
    "    return Xgrid, log_p_z_grid, _z0;"
   ]
  },
  {
   "cell_type": "code",
   "execution_count": 6,
   "metadata": {},
   "outputs": [
    {
     "name": "stdout",
     "output_type": "stream",
     "text": [
      "betas [1.]\n",
      "zs [[0.98 0.01 0.01]]\n"
     ]
    },
    {
     "data": {
      "image/png": "[encoded data removed]",
      "text/plain": [
       "<matplotlib.figure.Figure at 0x11f088400>"
      ]
     },
     "metadata": {},
     "output_type": "display_data"
    }
   ],
   "source": [
    "fontsize = 20;\n",
    "alpha_0s = params['alpha_0s'];\n",
    "betas = params['betas'];\n",
    "xs = params['xs'];\n",
    "zs = params['zs'];\n",
    "Ns = params['Ns'];\n",
    "\n",
    "print('betas', betas);\n",
    "print('zs', zs);\n",
    "\n",
    "\n",
    "subdiv = 8;\n",
    "refiner = tri.UniformTriRefiner(triangle);\n",
    "trimesh = refiner.refine_triangulation(subdiv=subdiv);\n",
    "\n",
    "K_show = 1;\n",
    "n_plot = 10;\n",
    "\n",
    "\"\"\"\n",
    "N = 10000;\n",
    "alpha = np.array([1.0,1.0,1.0]);\n",
    "z = np.array([.998,.001,.001]);\n",
    "beta = 1;\n",
    "dist2 = dirichlet(beta*z);\n",
    "x = dist2.rvs(N).T;\n",
    "alpha_0s[0] = alpha;\n",
    "betas[0] = beta;\n",
    "zs[0] = z;\n",
    "Ns[0] = N;\n",
    "eta_1, param_net_input_1 = dir_dir_eta(alpha, x, N, False);\n",
    "\n",
    "_eta[0] = eta_1;\n",
    "_param_net_input[0] = param_net_input_1;\n",
    "_Tx_input[0] = beta;\n",
    "\"\"\"\n",
    "Xgrid, log_p_z_grid, z0s = gen_grid(sess, n_plot, X, Z0, log_p_zs, eta, _eta, Tx_input, _Tx_input);\n",
    "\n",
    "plt.figure(figsize=(12, 4));\n",
    "i_start = 0;\n",
    "for i in range(K_show):\n",
    "    ind = i+i_start;\n",
    "    alpha_0_i = alpha_0s[ind];\n",
    "    #print(ind, alpha_0_i);\n",
    "    beta_i = betas[ind];\n",
    "    if (False):\n",
    "        x_i = x;\n",
    "    else:\n",
    "        x_i = xs[ind];\n",
    "    N_i = int(Ns[ind])\n",
    "    z_i = zs[ind];\n",
    "    betaz = beta_i*z_i;\n",
    "    \n",
    "    dist1 = Dirichlet(alpha_0_i);\n",
    "    p1s = get_dist_trimesh_probs(dist1, trimesh);\n",
    "    betaz_xy = bc2xy(np.expand_dims(z_i, 1));\n",
    "    #print('alpha plot scatter', x_xy[0], x_xy[1]);\n",
    "    \n",
    "    dist2 = Dirichlet(beta_i*z_i);\n",
    "    p2s = get_dist_trimesh_probs(dist2, trimesh);\n",
    "    x_xy = bc2xy(x_i);\n",
    "    \n",
    "    Xgrid_i = Xgrid[ind,:,:,0];\n",
    "    log_p_z_grid_i = log_p_z_grid[ind];\n",
    "    p_z_grid_i = np.exp(log_p_z_grid_i);\n",
    "    \n",
    "    maxp1 = np.max(p1s);\n",
    "    minp1 = np.min(p1s);\n",
    "    maxp2 = np.max(p2s);\n",
    "    minp2 = np.min(p2s);\n",
    "    maxgrid = np.max(p_z_grid_i);\n",
    "    mingrid = np.min(p_z_grid_i);\n",
    "    \n",
    "    p1_step = ((maxp1+1) - minp1)/1000.0;\n",
    "    p1_contour_levels = np.arange(minp1, maxp1+1, p1_step);\n",
    "    \n",
    "    p2_step = ((maxp2+1) - minp2)/1000.0;\n",
    "    p2_contour_levels = np.arange(minp2, maxp2+1, p2_step);\n",
    "    \n",
    "    grid_step = ((maxgrid+1)-mingrid)/1000.0;\n",
    "    grid_contour_levels = np.arange(mingrid, maxgrid+1, grid_step);\n",
    "    \n",
    "    maxp = max([maxp1, maxp2, maxgrid]);\n",
    "    minp = min([minp1, minp2, mingrid]);\n",
    "    \n",
    "    glob_step = ((maxp+1) - minp)/1000.0;\n",
    "    glob_contour_levels = np.arange(minp, maxp+1, glob_step);\n",
    "    \n",
    "    plt.subplot(K_show,3,i*3+1);\n",
    "    draw_pdf_contours(dist1, trimesh, p1_contour_levels, False);\n",
    "    plt.colorbar();\n",
    "    sizes = np.ones((N_i,));\n",
    "    plt.scatter(betaz_xy[0], betaz_xy[1]);\n",
    "    plt.title(r'Dir($\\alpha_0$ = [%.1f, %.1f, %.1f])' \\\n",
    "              % (alpha_0_i[0], alpha_0_i[1], alpha_0_i[2]), fontsize=fontsize);\n",
    "    \n",
    "    plt.subplot(K_show,3,i*3+2);\n",
    "    draw_pdf_contours(dist2, trimesh, p2_contour_levels, False);\n",
    "    plt.colorbar();\n",
    "    plt.scatter(x_xy[0], x_xy[1], s=sizes);\n",
    "    plt.title(r'Dir($\\beta z$ = [%.1f, %.1f, %.1f])' \\\n",
    "              % (betaz[0], betaz[1], betaz[2]), fontsize=fontsize);\n",
    "    \n",
    "    plt.subplot(K_show,3,i*3+3);\n",
    "    trimesh, log_p_z_trimesh = plotDirichletPosterior(Xgrid_i, log_p_z_grid_i, glob_contour_levels, False);\n",
    "    plt.title('posterior contour', fontsize=fontsize);\n",
    "    plt.colorbar();\n",
    "    \n",
    "plt.show();\n"
   ]
  },
  {
   "cell_type": "code",
   "execution_count": null,
   "metadata": {
    "collapsed": true
   },
   "outputs": [],
   "source": []
  }
 ],
 "metadata": {
  "kernelspec": {
   "display_name": "Python 3",
   "language": "python",
   "name": "python3"
  },
  "language_info": {
   "codemirror_mode": {
    "name": "ipython",
    "version": 3
   },
   "file_extension": ".py",
   "mimetype": "text/x-python",
   "name": "python",
   "nbconvert_exporter": "python",
   "pygments_lexer": "ipython3",
   "version": "3.6.1"
  }
 },
 "nbformat": 4,
 "nbformat_minor": 2
}
