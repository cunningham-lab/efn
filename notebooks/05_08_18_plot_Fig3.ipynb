{
 "cells": [
  {
   "cell_type": "code",
   "execution_count": 9,
   "metadata": {},
   "outputs": [
    {
     "name": "stdout",
     "output_type": "stream",
     "text": [
      "[-1.04002054e+08 -8.84605524e+03  0.00000000e+00  0.00000000e+00\n",
      "  0.00000000e+00  0.00000000e+00]\n",
      "[3656.21825344  187.79362074    0.            0.            0.\n",
      "    0.        ]\n"
     ]
    }
   ],
   "source": [
    "%matplotlib inline\n",
    "import numpy as np\n",
    "import matplotlib.pyplot as plt\n",
    "from plot_utils import plotCategoricalPerformance\n",
    "from efn_util import get_flowdict, get_flowstring, get_ef_dimensionalities\n",
    "\n",
    "exp_fam = 'inv_wishart';\n",
    "\n",
    "datadir = '/Users/sbittner/Documents/efn/results/Fig3/';\n",
    "if (exp_fam == 'dirichlet'):\n",
    "    Ds = [3, 4, 6, 8, 10, 15];\n",
    "    give_inverse_hint = False;\n",
    "elif (exp_fam == 'inv_wishart'):\n",
    "    Ds = [4, 9, 16, 25, 36, 49];\n",
    "    give_inverse_hint = False;\n",
    "elif (exp_fam == 'normal'):\n",
    "    Ds = [2, 4, 6, 8, 10];\n",
    "    give_inverse_hint = True;\n",
    "num_Ds = len(Ds);\n",
    "\n",
    "K = 100;\n",
    "M = 1000;\n",
    "rs = 0;\n",
    "\n",
    "train_R2s = np.zeros((num_Ds, K));\n",
    "train_KLs = np.zeros((num_Ds, K));\n",
    "\n",
    "for i in range(num_Ds):\n",
    "    D = Ds[i];\n",
    "    D_Z, ncons, num_param_net_inputs = get_ef_dimensionalities(exp_fam, D, give_inverse_hint);\n",
    "    planar_flows = D_Z;\n",
    "    flow_dict = get_flowdict(0, planar_flows, 0, 0);\n",
    "    flowstring = get_flowstring(flow_dict);\n",
    "    \n",
    "    L = int(np.ceil(np.sqrt(D_Z)));\n",
    "    try:\n",
    "        if (give_inverse_hint):\n",
    "            fname = datadir + 'EFN_%s_stochaticEta_giveInv_D=%d_K=%d_M=%d_flow=%s_L=%d_rs=%d/results.npz' % (exp_fam, D, K, M, flowstring, L, rs);\n",
    "        else:\n",
    "            fname = datadir + 'EFN_%s_stochaticEta_D=%d_K=%d_M=%d_flow=%s_L=%d_rs=%d/results.npz' % (exp_fam, D, K, M, flowstring, L, rs);\n",
    "        X = np.load(fname);\n",
    "    except:\n",
    "        pass\n",
    "    train_R2s[i,:] = X['train_R2s'][-1,:];\n",
    "    train_KLs[i,:] = X['train_KLs'][-1,:];\n",
    "    \n",
    "print(np.mean(train_R2s, 1));\n",
    "print(np.mean(train_KLs, 1));\n"
   ]
  },
  {
   "cell_type": "code",
   "execution_count": 10,
   "metadata": {},
   "outputs": [
    {
     "data": {
      "image/png": "[encoded data removed]",
      "text/plain": [
       "<matplotlib.figure.Figure at 0x122a91b00>"
      ]
     },
     "metadata": {},
     "output_type": "display_data"
    },
    {
     "data": {
      "image/png": "[encoded data removed]",
      "text/plain": [
       "<matplotlib.figure.Figure at 0x123849128>"
      ]
     },
     "metadata": {},
     "output_type": "display_data"
    }
   ],
   "source": [
    "fontsize = 14;\n",
    "dotsize = 20;\n",
    "x = np.array(Ds);\n",
    "legendstrs = [];\n",
    "fig = plt.figure(figsize=(12, 8));\n",
    "ax = fig.add_subplot(1,2,1);\n",
    "plotCategoricalPerformance(x, np.expand_dims(train_R2s, 0), legendstrs, plottype='scatter', dotsize=dotsize);\n",
    "ax.set_xticks(x);\n",
    "ax.set_xticklabels(Ds);\n",
    "plt.xlabel('D', fontsize=fontsize);\n",
    "plt.ylabel('R2', fontsize=fontsize);\n",
    "plt.show();\n",
    "\n",
    "fontsize = 14;\n",
    "dotsize = 20;\n",
    "x = np.array(Ds);\n",
    "legendstrs = [];\n",
    "fig = plt.figure(figsize=(12, 8));\n",
    "ax = fig.add_subplot(1,2,1);\n",
    "plotCategoricalPerformance(x, np.expand_dims(train_KLs, 0), legendstrs, plottype='scatter', dotsize=dotsize);\n",
    "ax.set_xticks(x);\n",
    "ax.set_xticklabels(Ds);\n",
    "plt.xlabel('D', fontsize=fontsize);\n",
    "plt.ylabel('KL', fontsize=fontsize);\n",
    "plt.show();"
   ]
  },
  {
   "cell_type": "code",
   "execution_count": null,
   "metadata": {
    "collapsed": true
   },
   "outputs": [],
   "source": []
  }
 ],
 "metadata": {
  "kernelspec": {
   "display_name": "Python 3",
   "language": "python",
   "name": "python3"
  },
  "language_info": {
   "codemirror_mode": {
    "name": "ipython",
    "version": 3
   },
   "file_extension": ".py",
   "mimetype": "text/x-python",
   "name": "python",
   "nbconvert_exporter": "python",
   "pygments_lexer": "ipython3",
   "version": "3.6.1"
  }
 },
 "nbformat": 4,
 "nbformat_minor": 2
}
