{
 "cells": [
  {
   "cell_type": "code",
   "execution_count": 2,
   "metadata": {
    "collapsed": true
   },
   "outputs": [],
   "source": [
    "%matplotlib inline\n",
    "import numpy as np\n",
    "import matplotlib.pyplot as plt\n",
    "from scipy.stats import wishart, invwishart\n"
   ]
  },
  {
   "cell_type": "code",
   "execution_count": 15,
   "metadata": {},
   "outputs": [
    {
     "name": "stdout",
     "output_type": "stream",
     "text": [
      "dof 125\n",
      "[1.30565024 1.21615996 1.36740859 ... 1.13832362 1.10936064 1.06083031]\n",
      "[-0.07210931  0.00726577  0.01830423  0.08291745 -0.07896935  0.00647552\n",
      " -0.13129646 -0.04852663 -0.15135469  0.11389901 -0.08607944 -0.00595548\n",
      "  0.37760414 -0.01433137  0.12148382  0.08370191 -0.02948657  0.11605536\n",
      "  0.00822641  0.08540203  0.0939389   0.09883024 -0.26401679 -0.10373596\n",
      "  0.20607982  0.10421914  0.01762204  0.10589487  0.11629016 -0.01768191\n",
      " -0.14873871 -0.05719327  0.01269673  0.14400035 -0.01321856  0.02405585\n",
      " -0.12432885 -0.19797574 -0.03349358 -0.14134857 -0.02483791 -0.04110458\n",
      " -0.03226483  0.12523393 -0.16096026  0.11794001  0.02849015 -0.04592631\n",
      "  0.09641794 -0.05458042  0.20253571 -0.01556081 -0.05201453 -0.19356217\n",
      "  0.00956386  0.11511973 -0.0373126   0.11494003 -0.09065518 -0.21707668\n",
      "  0.19947576 -0.02612121  0.03031192  0.14281117  0.16521472 -0.15539618\n",
      "  0.25082487 -0.00794692 -0.10206067 -0.15058808  0.00392282 -0.21418701\n",
      " -0.05288504  0.17856102 -0.06876774  0.02705846  0.09899908 -0.20554137\n",
      "  0.13103924  0.15634244 -0.04103715 -0.02189656 -0.09800281 -0.22351012\n",
      " -0.1445588  -0.07503293  0.02966458 -0.09815684 -0.20766491 -0.0505101\n",
      " -0.0307229  -0.05176935 -0.03428526  0.00144699 -0.2152995  -0.12993971\n",
      " -0.02288449  0.30997105 -0.03486823 -0.2191969 ]\n"
     ]
    },
    {
     "data": {
      "image/png": "[encoded data removed]",
      "text/plain": [
       "<matplotlib.figure.Figure at 0x115e836a0>"
      ]
     },
     "metadata": {},
     "output_type": "display_data"
    },
    {
     "data": {
      "image/png": "[encoded data removed]",
      "text/plain": [
       "<matplotlib.figure.Figure at 0x1162ab278>"
      ]
     },
     "metadata": {},
     "output_type": "display_data"
    }
   ],
   "source": [
    "D = 25;\n",
    "N = 100;\n",
    "df_fac = 5;\n",
    "df = df_fac*D;\n",
    "print('dof', df);\n",
    "Sigma_dist = invwishart(df=df, scale=df*np.eye(D));\n",
    "\n",
    "Sigmas = Sigma_dist.rvs(N);\n",
    "\n",
    "diags = np.zeros((D*N,));\n",
    "corrs = np.zeros((N,));\n",
    "dind = 0;\n",
    "cind = 0;\n",
    "for i in range(N):\n",
    "    for d in range(D):\n",
    "        diags[dind] = Sigmas[i,d,d];\n",
    "        dind += 1;\n",
    "    corrs[cind] = Sigmas[i,0,1];\n",
    "    cind += 1;\n",
    "\n",
    "fig = plt.figure();\n",
    "fig.add_subplot(1,2,1);\n",
    "plt.hist(diags, range=([0,5]), bins=20, normed=True);\n",
    "plt.xlim([0,5]);\n",
    "plt.title('diags');\n",
    "\n",
    "fig = plt.figure();\n",
    "fig.add_subplot(1,2,1);\n",
    "plt.hist(corrs, range=([-1,1]), bins=40, normed=True);\n",
    "#plt.xlim([-5,5]);\n",
    "plt.title('corrs');\n",
    "\n",
    "print(diags)\n",
    "print(corrs);"
   ]
  },
  {
   "cell_type": "code",
   "execution_count": null,
   "metadata": {
    "collapsed": true
   },
   "outputs": [],
   "source": []
  },
  {
   "cell_type": "code",
   "execution_count": null,
   "metadata": {
    "collapsed": true
   },
   "outputs": [],
   "source": []
  }
 ],
 "metadata": {
  "kernelspec": {
   "display_name": "Python 3",
   "language": "python",
   "name": "python3"
  },
  "language_info": {
   "codemirror_mode": {
    "name": "ipython",
    "version": 3
   },
   "file_extension": ".py",
   "mimetype": "text/x-python",
   "name": "python",
   "nbconvert_exporter": "python",
   "pygments_lexer": "ipython3",
   "version": "3.6.1"
  }
 },
 "nbformat": 4,
 "nbformat_minor": 2
}
