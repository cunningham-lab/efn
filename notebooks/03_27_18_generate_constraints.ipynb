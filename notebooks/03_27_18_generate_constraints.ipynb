{
 "cells": [
  {
   "cell_type": "code",
   "execution_count": 15,
   "metadata": {
    "collapsed": true
   },
   "outputs": [],
   "source": [
    "%matplotlib inline\n",
    "import numpy as np\n",
    "from utils import rvs\n",
    "import scipy\n",
    "from scipy.stats import multivariate_normal\n",
    "from scipy.special import psi\n",
    "import matplotlib.pyplot as plt\n",
    "\n",
    "np.random.seed(0);\n",
    "condir = '/Users/sbittner/Documents/efn/constraints/'\n",
    "\n",
    "# ****************************************************\n",
    "mu_targs = np.zeros((3, 2));\n",
    "Sigma_targs = np.array([[[1.0, -0.8], [-0.8, 1.0]], \\\n",
    "                        [[1.0, 0.0], [0.0, 1.0]], \\\n",
    "                        [[1.0, 0.8], [0.8, 1.0]]]);\n",
    "\n",
    "mu_OL_targs = np.zeros((3, 2));\n",
    "Sigma_OL_targs = np.array([[[2.0, 0.0], [0.0, 2.0]], \\\n",
    "                        [[1.0, -0.4], [-0.4, 1.0]], \\\n",
    "                        [[1.0, 0.4], [0.4, 1.0]]]);\n",
    "\n",
    "fname = condir + 'normal_1VL.npz';\n",
    "np.savez(fname, mu_targs=mu_targs, Sigma_targs=Sigma_targs, \\\n",
    "                mu_OL_targs=mu_OL_targs, Sigma_OL_targs=Sigma_OL_targs);\n"
   ]
  },
  {
   "cell_type": "code",
   "execution_count": 8,
   "metadata": {
    "collapsed": true
   },
   "outputs": [],
   "source": [
    "# ****************************************************\n",
    "mu_targs = np.zeros((1, 2));\n",
    "Sigma_targs = 20*np.array([[[1.0, -0.8], [-0.8, 5.0]]]);\n",
    "\n",
    "mu_OL_targs = mu_targs;\n",
    "Sigma_OL_targs = Sigma_targs;\n",
    "\n",
    "fname = condir + 'normalIdentity.npz';\n",
    "np.savez(fname, mu_targs=mu_targs, Sigma_targs=Sigma_targs, \\\n",
    "                mu_OL_targs=mu_OL_targs, Sigma_OL_targs=Sigma_OL_targs);\n"
   ]
  },
  {
   "cell_type": "code",
   "execution_count": 3,
   "metadata": {
    "collapsed": true
   },
   "outputs": [],
   "source": [
    "alpha_targs = 2*np.array([[1.0, 2.0, 3.0], \\\n",
    "                   [2.0, 2.0, 2.0], \\\n",
    "                   [3.0, 2.0, 1.0]]);\n",
    "\n",
    "alpha_OL_targs = 2*np.array([[1.0, 1.0, 1.0], \\\n",
    "                           [1.5, 2.0, 2.5], \\\n",
    "                           [2.5, 2.0, 1.5]]);\n",
    "D = alpha_targs.shape[1];\n",
    "\n",
    "\"\"\"# Compute the expected log contraints for the dirichlet\n",
    "alpha_0 = np.sum(alpha);\n",
    "phi_0 = psi(alpha_0);\n",
    "K = psi(alpha) - np.expand_dims(phi_0, 1);\n",
    "print(K);\n",
    "\"\"\"\n",
    "\n",
    "fname = condir + 'dirichlet.npz';\n",
    "np.savez(fname, alpha_targs=alpha_targs, alpha_OL_targs=alpha_OL_targs);\n"
   ]
  },
  {
   "cell_type": "code",
   "execution_count": 16,
   "metadata": {},
   "outputs": [
    {
     "name": "stdout",
     "output_type": "stream",
     "text": [
      "K_eta 12\n"
     ]
    }
   ],
   "source": [
    "fname = condir + 'normal_2VL.npz';\n",
    "\n",
    "var_vals = [1.0, 2.0];\n",
    "cor_vals = [-.8, 0, .8];\n",
    "nvars = len(var_vals);\n",
    "ncorrs = len(cor_vals);\n",
    "K_eta = (nvars**2)*ncorrs;\n",
    "print('K_eta', K_eta);\n",
    "\n",
    "mu_targs = np.zeros((K_eta, 2));\n",
    "Sigma_targs = np.zeros((K_eta, 2, 2));\n",
    "for i in range(nvars):\n",
    "    var_i = var_vals[i];\n",
    "    for j in range(nvars):\n",
    "        var_j = var_vals[j];\n",
    "        for k in range(ncorrs):\n",
    "            corr_k = cor_vals[k];\n",
    "            offdiag = corr_k*np.sqrt(var_i)*np.sqrt(var_j);\n",
    "            Sigma_ijk = np.array([[var_i, offdiag], [offdiag, var_j]]);\n",
    "            ind = (i*nvars*ncorrs)+j*ncorrs+k;\n",
    "            Sigma_targs[ind,:,:] = Sigma_ijk;\n",
    "\n",
    "var_vals = [1.25, 1.75];\n",
    "cor_vals = [-.4, 0.0, .4];\n",
    "nvars = len(var_vals);\n",
    "ncorrs = len(cor_vals);\n",
    "mu_OL_targs = np.zeros((K_eta, 2));\n",
    "Sigma_OL_targs = np.zeros((K_eta, 2, 2));\n",
    "for i in range(nvars):\n",
    "    var_i = var_vals[i];\n",
    "    for j in range(nvars):\n",
    "        var_j = var_vals[j];\n",
    "        for k in range(ncorrs):\n",
    "            corr_k = cor_vals[k];\n",
    "            offdiag = corr_k*np.sqrt(var_i)*np.sqrt(var_j);\n",
    "            Sigma_ijk = np.array([[var_i, offdiag], [offdiag, var_j]]);\n",
    "            ind = (i*nvars*ncorrs)+j*ncorrs+k;\n",
    "            Sigma_OL_targs[ind,:,:] = Sigma_ijk;\n",
    "            \n",
    "            \n",
    "np.savez(fname, mu_targs=mu_targs, Sigma_targs=Sigma_targs, \\\n",
    "                mu_OL_targs=mu_OL_targs, Sigma_OL_targs=Sigma_OL_targs);\n",
    "            "
   ]
  },
  {
   "cell_type": "code",
   "execution_count": 14,
   "metadata": {},
   "outputs": [
    {
     "name": "stdout",
     "output_type": "stream",
     "text": [
      "K_eta 125\n"
     ]
    }
   ],
   "source": [
    "var_vals = [.5, 1.0, 2.0, 3.0, 4.0];\n",
    "cor_vals = [-.8, -.4, 0, .4, .8];\n",
    "nvars = len(var_vals);\n",
    "ncorrs = len(cor_vals);\n",
    "K_eta = (nvars**2)*ncorrs;\n",
    "print('K_eta', K_eta);\n",
    "\n",
    "mu_targs = np.zeros((K_eta, 2));\n",
    "Sigma_targs = np.zeros((K_eta, 2, 2));\n",
    "for i in range(nvars):\n",
    "    var_i = var_vals[i];\n",
    "    for j in range(nvars):\n",
    "        var_j = var_vals[j];\n",
    "        for k in range(ncorrs):\n",
    "            corr_k = cor_vals[k];\n",
    "            offdiag = corr_k*np.sqrt(var_i)*np.sqrt(var_j);\n",
    "            Sigma_ijk = np.array([[var_i, offdiag], [offdiag, var_j]]);\n",
    "            ind = (i*nvars*ncorrs)+j*ncorrs+k;\n",
    "            Sigma_targs[ind,:,:] = Sigma_ijk;\n",
    "            \n",
    "            # save single dist constraints\n",
    "            #np.savez(condir + 'normal_%d.npz' % (ind+1), mu_targs=np.array([mu_targs[i]]), Sigma_targs=np.array([Sigma_ijk]), \\\n",
    "            #    mu_OL_targs=np.array([mu_targs[0]]), Sigma_OL_targs=np.array([Sigma_ijk]));\n",
    "            \n",
    "\n",
    "var_vals = [1.2, 1.5, 2.5, 3.5, 4.5];\n",
    "cor_vals = [-.9, -.6, -.2, .2, .6];\n",
    "nvars = len(var_vals);\n",
    "ncorrs = len(cor_vals);\n",
    "mu_OL_targs = np.zeros((K_eta, 2));\n",
    "Sigma_OL_targs = np.zeros((K_eta, 2, 2));\n",
    "for i in range(nvars):\n",
    "    var_i = var_vals[i];\n",
    "    for j in range(nvars):\n",
    "        var_j = var_vals[j];\n",
    "        for k in range(ncorrs):\n",
    "            corr_k = cor_vals[k];\n",
    "            offdiag = corr_k*np.sqrt(var_i)*np.sqrt(var_j);\n",
    "            Sigma_ijk = np.array([[var_i, offdiag], [offdiag, var_j]]);\n",
    "            ind = (i*nvars*ncorrs)+j*ncorrs+k;\n",
    "            Sigma_OL_targs[ind,:,:] = Sigma_ijk;\n",
    "            \n",
    "fname = condir + 'normal_lattice.npz';   \n",
    "np.savez(fname, mu_targs=mu_targs, Sigma_targs=Sigma_targs, \\\n",
    "                mu_OL_targs=mu_OL_targs, Sigma_OL_targs=Sigma_OL_targs);\n",
    "            "
   ]
  },
  {
   "cell_type": "code",
   "execution_count": 7,
   "metadata": {},
   "outputs": [
    {
     "data": {
      "text/plain": [
       "6250"
      ]
     },
     "execution_count": 7,
     "metadata": {},
     "output_type": "execute_result"
    }
   ],
   "source": [
    "K_eta*50\n"
   ]
  },
  {
   "cell_type": "code",
   "execution_count": null,
   "metadata": {
    "collapsed": true
   },
   "outputs": [],
   "source": []
  }
 ],
 "metadata": {
  "kernelspec": {
   "display_name": "Python 3",
   "language": "python",
   "name": "python3"
  },
  "language_info": {
   "codemirror_mode": {
    "name": "ipython",
    "version": 3
   },
   "file_extension": ".py",
   "mimetype": "text/x-python",
   "name": "python",
   "nbconvert_exporter": "python",
   "pygments_lexer": "ipython3",
   "version": "3.6.1"
  }
 },
 "nbformat": 4,
 "nbformat_minor": 2
}
