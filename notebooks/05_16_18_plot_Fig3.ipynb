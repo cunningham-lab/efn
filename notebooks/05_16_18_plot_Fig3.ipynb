{
 "cells": [
  {
   "cell_type": "code",
   "execution_count": 1,
   "metadata": {},
   "outputs": [],
   "source": [
    "%matplotlib inline\n",
    "%load_ext autoreload\n",
    "%autoreload 2\n",
    "import numpy as np\n",
    "import matplotlib\n",
    "import matplotlib.pyplot as plt\n",
    "from plot_utils import plotCategoricalPerformance\n",
    "from efn_util import get_flowdict, get_flowstring\n",
    "import os\n",
    "import seaborn as sns\n",
    "import pandas as pd\n",
    "from families import family_from_str\n",
    "from plot_util import load_dim_sweep, dim_sweep_df\n",
    "\n",
    "matplotlib.rcParams['xtick.direction'] = 'out'\n",
    "matplotlib.rcParams['ytick.direction'] = 'out'\n",
    "\n",
    "font = {'family' : 'normal',\n",
    "        'weight' : 'normal',\n",
    "        'size'   : 18}\n",
    "\n",
    "matplotlib.rc('font', **font)\n"
   ]
  },
  {
   "cell_type": "code",
   "execution_count": 2,
   "metadata": {},
   "outputs": [
    {
     "name": "stdout",
     "output_type": "stream",
     "text": [
      "/Users/sbittner/Documents/efn/results/Fig3/EFN1/EFN_dirichlet_fixedEta_D=50_K=1_M=1000_flow=50P_L=7_rs=1/results.npz\n",
      "looking back in time for latest R2 or KL\n",
      "found it at 26100\n",
      "/Users/sbittner/Documents/efn/results/Fig3/EFN1/EFN_dirichlet_fixedEta_D=50_K=1_M=1000_flow=50P_L=7_rs=6/results.npz\n",
      "looking back in time for latest R2 or KL\n",
      "found it at 26100\n",
      "/Users/sbittner/Documents/efn/results/Fig3/EFN1/EFN_dirichlet_fixedEta_D=50_K=1_M=1000_flow=50P_L=7_rs=9/results.npz\n",
      "looking back in time for latest R2 or KL\n",
      "found it at 26200\n"
     ]
    }
   ],
   "source": [
    "exp_fam = 'dirichlet';\n",
    "\n",
    "datadir = '/Users/sbittner/Documents/efn/results/Fig3/';\n",
    "max_iters = 50000;\n",
    "if (exp_fam == 'dirichlet'):\n",
    "    Ds = [3, 5, 10, 15, 20, 25, 50];\n",
    "    give_inverse_hint = False;\n",
    "    scatterR2ylim = [.8, 1];\n",
    "    errovbarR2ylim = scatterR2ylim;\n",
    "    scatterKLylim = [0, 0.5];\n",
    "    errorbarKLylim = scatterKLylim;\n",
    "elif (exp_fam == 'normal' or exp_fam == 'normal5'):\n",
    "    Ds = [2, 5, 10, 15, 20, 25, 40];\n",
    "    give_inverse_hint = True;\n",
    "    scatterR2ylim = [.8, 1];\n",
    "    errorbarR2ylim = scatterR2ylim;\n",
    "    scatterKLylim = [0, .5];\n",
    "    errorbarKLylim = scatterKLylim;\n",
    "elif (exp_fam == 'inv_wishart'):\n",
    "    Ds = [4, 9, 16];\n",
    "    give_inverse_hint = True;\n",
    "    scatterR2ylim = [0, 1];\n",
    "    errorbarR2ylim = scatterR2ylim;\n",
    "    scatterKLylim = [0, 10];\n",
    "    errorbarKLylim = scatterKLylim;\n",
    "elif (exp_fam == 'prp_tn'):\n",
    "    Ds = [2, 5, 10, 15, 20];\n",
    "    give_inverse_hint = True;\n",
    "    scatterR2ylim = [0, 1];\n",
    "    errorbarR2ylim = scatterR2ylim;\n",
    "    scatterKLylim = [0, 10];\n",
    "    errorbarKLylim = scatterKLylim;\n",
    "elif (exp_fam == 'dir_dir'):\n",
    "    Ds = [5, 10, 15, 20];\n",
    "    give_inverse_hint = True;\n",
    "    scatterR2ylim = [0, 1];\n",
    "    errorbarR2ylim = scatterR2ylim;\n",
    "    scatterKLylim = [0, 10];\n",
    "    errorbarKLylim = scatterKLylim;\n",
    "    \n",
    "num_Ds = len(Ds);\n",
    "        \n",
    "num_rs = 10;\n",
    "K = 100;\n",
    "M = 1000;\n",
    "\n",
    "diagnostic_list = [];\n",
    "\n",
    "EFN_elbos, EFN_R2s, EFN_KLs = load_dim_sweep(exp_fam, 'EFN', datadir, Ds, K, M, give_inverse_hint, max_iters);\n",
    "diagnostic_list.append([EFN_elbos, EFN_R2s, EFN_KLs]);\n",
    "\n",
    "NF1_elbos, NF1_R2s, NF1_KLs = load_dim_sweep(exp_fam, 'NF1', datadir, Ds, K, M, give_inverse_hint, max_iters, 10);\n",
    "diagnostic_list.append([NF1_elbos, NF1_R2s, NF1_KLs]);\n",
    "\n",
    "EFN1_elbos, EFN1_R2s, EFN1_KLs = load_dim_sweep(exp_fam, 'EFN1', datadir, Ds, K, M, give_inverse_hint, max_iters, 10);\n",
    "diagnostic_list.append([EFN1_elbos, EFN1_R2s, EFN1_KLs]);\n"
   ]
  },
  {
   "cell_type": "code",
   "execution_count": 3,
   "metadata": {},
   "outputs": [
    {
     "name": "stderr",
     "output_type": "stream",
     "text": [
      "/Users/sbittner/Documents/efn/util/plot_util.py:159: RuntimeWarning: invalid value encountered in less\n",
      "  R2_isnegative = R2s_vec < 0;\n",
      "/Users/sbittner/Library/Python/3.6/lib/python/site-packages/matplotlib/font_manager.py:1297: UserWarning: findfont: Font family ['normal'] not found. Falling back to DejaVu Sans\n",
      "  (prop.get_family(), self.defaultFamily[fontext]))\n"
     ]
    },
    {
     "data": {
      "image/png": "[encoded data removed]",
      "text/plain": [
       "<matplotlib.figure.Figure at 0x1221fd6d8>"
      ]
     },
     "metadata": {},
     "output_type": "display_data"
    },
    {
     "data": {
      "image/png": "[encoded data removed]",
      "text/plain": [
       "<matplotlib.figure.Figure at 0x1221fd860>"
      ]
     },
     "metadata": {},
     "output_type": "display_data"
    }
   ],
   "source": [
    "colors = [\"pale red\", \"medium green\", \"windows blue\", \"amber\", \"dusty purple\", \"greyish\", \"faded green\", \"denim blue\"];\n",
    "palette = sns.xkcd_palette(colors)\n",
    "\n",
    "df = dim_sweep_df(Ds, ['EFN', 'NF1', 'EFN1'], diagnostic_list);\n",
    "\n",
    "plt.figure(figsize=(6,4));\n",
    "ax = sns.boxplot(x='D', y='R2', hue='model', \\\n",
    "                      data=df, palette=palette)\n",
    "if (not (exp_fam == 'dirichlet')):\n",
    "    ax.legend_.remove();\n",
    "ax.spines['right'].set_visible(False)\n",
    "ax.spines['top'].set_visible(False)\n",
    "ax.set_xlabel('')\n",
    "ax.set_ylabel('')\n",
    "plt.tight_layout();\n",
    "plt.savefig('/Users/sbittner/Documents/efn/written/figs/fig3/%s_R2.pdf' % exp_fam, \\\n",
    "            dpi=300, transparent=True)\n",
    "plt.show();\n",
    "\n",
    "plt.figure(figsize=(6,4));\n",
    "ax = sns.boxplot(x='D', y='KL', hue='model',\n",
    "                      data=df, palette=palette)\n",
    "ax.legend_.remove()\n",
    "ax.set_xlabel('')\n",
    "ax.set_ylabel('')\n",
    "ax.spines['right'].set_visible(False)\n",
    "ax.spines['top'].set_visible(False)\n",
    "plt.tight_layout();\n",
    "plt.savefig('/Users/sbittner/Documents/efn/written/figs/fig3/%s_KL.pdf' % exp_fam, \\\n",
    "            dpi=300, transparent=True)\n",
    "plt.show();"
   ]
  },
  {
   "cell_type": "code",
   "execution_count": null,
   "metadata": {
    "collapsed": true
   },
   "outputs": [],
   "source": []
  }
 ],
 "metadata": {
  "kernelspec": {
   "display_name": "Python 3",
   "language": "python",
   "name": "python3"
  },
  "language_info": {
   "codemirror_mode": {
    "name": "ipython",
    "version": 3
   },
   "file_extension": ".py",
   "mimetype": "text/x-python",
   "name": "python",
   "nbconvert_exporter": "python",
   "pygments_lexer": "ipython3",
   "version": "3.6.1"
  }
 },
 "nbformat": 4,
 "nbformat_minor": 2
}
