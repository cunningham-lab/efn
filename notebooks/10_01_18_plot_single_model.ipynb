{
 "cells": [
  {
   "cell_type": "code",
   "execution_count": 1,
   "metadata": {},
   "outputs": [
    {
     "name": "stdout",
     "output_type": "stream",
     "text": [
      "Error! Issue reading results/test/EFN_inv_wishart_ui_4to6_iiw_100_D=4_K=100_M=1000_flow=20P_L=4_rs=0/\n"
     ]
    },
    {
     "ename": "NameError",
     "evalue": "name 'npzfile' is not defined",
     "output_type": "error",
     "traceback": [
      "\u001b[0;31m---------------------------------------------------------------------------\u001b[0m",
      "\u001b[0;31mNameError\u001b[0m                                 Traceback (most recent call last)",
      "\u001b[0;32m<ipython-input-1-2652946b6228>\u001b[0m in \u001b[0;36m<module>\u001b[0;34m()\u001b[0m\n\u001b[1;32m     72\u001b[0m     \u001b[0mprint\u001b[0m\u001b[0;34m(\u001b[0m\u001b[0;34m'Error! Issue reading %s'\u001b[0m \u001b[0;34m%\u001b[0m \u001b[0mmodel_dir\u001b[0m\u001b[0;34m)\u001b[0m\u001b[0;34m;\u001b[0m\u001b[0;34m\u001b[0m\u001b[0m\n\u001b[1;32m     73\u001b[0m \u001b[0;34m\u001b[0m\u001b[0m\n\u001b[0;32m---> 74\u001b[0;31m \u001b[0mtest_elbos\u001b[0m \u001b[0;34m=\u001b[0m \u001b[0mnpzfile\u001b[0m\u001b[0;34m[\u001b[0m\u001b[0;34m'test_elbos'\u001b[0m\u001b[0;34m]\u001b[0m\u001b[0;34m;\u001b[0m\u001b[0;34m\u001b[0m\u001b[0m\n\u001b[0m\u001b[1;32m     75\u001b[0m \u001b[0mlast_ind\u001b[0m \u001b[0;34m=\u001b[0m \u001b[0mfind_last_ind\u001b[0m\u001b[0;34m(\u001b[0m\u001b[0mtest_elbos\u001b[0m\u001b[0;34m)\u001b[0m\u001b[0;34m;\u001b[0m\u001b[0;34m\u001b[0m\u001b[0m\n\u001b[1;32m     76\u001b[0m \u001b[0mmean_test_elbos\u001b[0m \u001b[0;34m=\u001b[0m \u001b[0mnp\u001b[0m\u001b[0;34m.\u001b[0m\u001b[0mmean\u001b[0m\u001b[0;34m(\u001b[0m\u001b[0mtest_elbos\u001b[0m\u001b[0;34m,\u001b[0m \u001b[0;36m1\u001b[0m\u001b[0;34m)\u001b[0m\u001b[0;34m;\u001b[0m\u001b[0;34m\u001b[0m\u001b[0m\n",
      "\u001b[0;31mNameError\u001b[0m: name 'npzfile' is not defined"
     ]
    }
   ],
   "source": [
    "%matplotlib inline\n",
    "%load_ext autoreload\n",
    "%autoreload 2\n",
    "import numpy as np\n",
    "import matplotlib\n",
    "import matplotlib.pyplot as plt\n",
    "from plot_utils import plotCategoricalPerformance\n",
    "import os\n",
    "import seaborn as sns\n",
    "import pandas as pd\n",
    "from tf_util.families import family_from_str\n",
    "from plot_util import EFN_model_df, find_last_ind, get_latest_diagnostics\n",
    "from efn_util import setup_IO, find_convergence, model_opt_hps\n",
    "\n",
    "matplotlib.rcParams['xtick.direction'] = 'out'\n",
    "matplotlib.rcParams['ytick.direction'] = 'out'\n",
    "\n",
    "font = {'family' : 'normal',\n",
    "        'weight' : 'normal',\n",
    "        'size'   : 18}\n",
    "\n",
    "matplotlib.rc('font', **font)\n",
    "\n",
    "basedir = '/Users/sbittner/Documents/efn/';\n",
    "dir_str = 'test'\n",
    "\n",
    "exp_fam = 'inv_wishart';\n",
    "\n",
    "datadir = '/Users/sbittner/Documents/efn/results/dim_sweep/';\n",
    "D = 4;\n",
    "model = 'EFN';\n",
    "L = 4;\n",
    "give_hint = False;\n",
    "        \n",
    "ds = 0;\n",
    "K = 100;\n",
    "M = 1000;\n",
    "\n",
    "rs = 0;\n",
    "wsize = 50;\n",
    "delta_thresh = 1e-10;\n",
    "\n",
    "max_iters = 1000000;\n",
    "min_iters = 50000;\n",
    "check_rate = 100;\n",
    "max_checks = np.int(max_iters // check_rate);\n",
    "min_checks = np.int(min_iters // check_rate);\n",
    "\n",
    "        \n",
    "if (D >= 20):\n",
    "    min_iters = 100000;\n",
    "else:\n",
    "    min_iters = 50000;\n",
    "\n",
    "\n",
    "fam_class = family_from_str(exp_fam);\n",
    "family = fam_class(D);\n",
    "D_Z, num_suff_stats, num_param_net_inputs, num_T_x_inputs = family.get_efn_dims('eta', give_hint);\n",
    "\n",
    "\n",
    "TIF_flow_type, nlayers, scale_layer, lr_order = model_opt_hps(exp_fam, D);\n",
    "param_net_hps = {'L':L};\n",
    "\n",
    "flow_dict = {'latent_dynamics':None, \\\n",
    "             'scale_layer':scale_layer, \\\n",
    "             'TIF_flow_type':TIF_flow_type, \\\n",
    "             'repeats':nlayers};\n",
    "dist_info = {'dist_seed':ds};\n",
    "model_dir = setup_IO(family, model, dir_str, 'eta', K, M, flow_dict, \\\n",
    "                             param_net_hps, give_hint, rs, dist_info);\n",
    "savedir = basedir + model_dir;\n",
    "fname = savedir + 'results.npz';\n",
    "try:\n",
    "    npzfile = np.load(fname);\n",
    "except:\n",
    "    print('Error! Issue reading %s' % model_dir);\n",
    "\n",
    "test_elbos = npzfile['test_elbos'];\n",
    "last_ind = find_last_ind(test_elbos);\n",
    "mean_test_elbos = np.mean(test_elbos, 1);\n",
    "ind = find_convergence(mean_test_elbos, last_ind+1, wsize, delta_thresh);\n",
    "print('last in before zeros', last_ind);\n",
    "print('convergence ind', ind);\n",
    "if (ind is None or (not npzfile['converged'])):\n",
    "    print('Hasnt converged: %s' % fname);\n",
    "    ind = mean_test_elbos.shape[0];\n",
    "else:\n",
    "    print('%s was fine' % model_dir);\n",
    "    ind = max(ind, min_checks);\n",
    "final_ind = ind;\n",
    "\n",
    "elbos, R2s, KLs, status = get_latest_diagnostics(fname, is_train=(model=='EFN1'), ind=ind);\n",
    "\n",
    "\n",
    "diagnostic_str = 'train' if (model == 'EFN1') else 'test';\n",
    "\n",
    "mean_elbos = np.mean(npzfile['%s_elbos' % diagnostic_str], 1)[:ind];\n",
    "std_elbos = np.std(npzfile['%s_elbos' % diagnostic_str], 1)[:ind];\n",
    "\n",
    "mean_R2s = np.mean(npzfile['%s_R2s' % diagnostic_str], 1)[:ind];\n",
    "std_R2s = np.std(npzfile['%s_R2s' % diagnostic_str], 1)[:ind];\n",
    "check_rate = npzfile['check_rate'];\n",
    "print(mean_elbos.shape, mean_R2s.shape);"
   ]
  },
  {
   "cell_type": "code",
   "execution_count": 14,
   "metadata": {
    "scrolled": false
   },
   "outputs": [
    {
     "name": "stderr",
     "output_type": "stream",
     "text": [
      "/Users/sbittner/Library/Python/3.6/lib/python/site-packages/matplotlib/axes/_base.py:3471: UserWarning: Attempting to set identical bottom==top results\n",
      "in singular transformations; automatically expanding.\n",
      "bottom=0.0, top=0.0\n",
      "  'bottom=%s, top=%s') % (bottom, top))\n",
      "/Users/sbittner/Library/Python/3.6/lib/python/site-packages/matplotlib/font_manager.py:1331: UserWarning: findfont: Font family ['normal'] not found. Falling back to DejaVu Sans\n",
      "  (prop.get_family(), self.defaultFamily[fontext]))\n"
     ]
    },
    {
     "data": {
      "image/png": "[encoded data removed]",
      "text/plain": [
       "<Figure size 720x360 with 2 Axes>"
      ]
     },
     "metadata": {},
     "output_type": "display_data"
    }
   ],
   "source": [
    "fontsize = 14;\n",
    "its = np.arange(0, check_rate*final_ind, check_rate);\n",
    "\n",
    "plt.figure(figsize=(10,5));\n",
    "# KL\n",
    "plt.subplot(1,2,1);\n",
    "plt.plot(its, mean_elbos, 'k', lw=2);\n",
    "min_val = np.min(mean_elbos-std_elbos);\n",
    "if (model=='EFN'):\n",
    "    plt.plot(its, mean_elbos+std_elbos,'k--',lw=2);\n",
    "    plt.plot(its, mean_elbos-std_elbos,'k--',lw=2);\n",
    "    std_mag = np.max(std_elbos);\n",
    "    max_val = min_val + 3*std_mag;\n",
    "else:\n",
    "    max_val = np.max(mean_elbos);\n",
    "plt.ylim([min_val, max_val])\n",
    "plt.xlabel('iterations', fontsize=fontsize);\n",
    "plt.ylabel('-ELBO', fontsize=fontsize);\n",
    "\n",
    "\n",
    "# r2\n",
    "plt.subplot(1,2,2);\n",
    "plt.plot(its, mean_R2s,'k', lw=2);\n",
    "min_val = max(np.min(mean_R2s-std_R2s), 0);\n",
    "if (model=='EFN'):\n",
    "    plt.plot(its, mean_R2s+std_R2s,'k--',lw=2);\n",
    "    plt.plot(its, mean_R2s-std_R2s,'k--',lw=2);\n",
    "plt.ylim([min_val, 1])\n",
    "plt.xlabel('iterations', fontsize=fontsize);\n",
    "plt.ylabel('r^2', fontsize=fontsize);\n",
    "\n",
    "plt.show();"
   ]
  },
  {
   "cell_type": "code",
   "execution_count": null,
   "metadata": {
    "collapsed": true
   },
   "outputs": [],
   "source": []
  }
 ],
 "metadata": {
  "kernelspec": {
   "display_name": "Python 3",
   "language": "python",
   "name": "python3"
  },
  "language_info": {
   "codemirror_mode": {
    "name": "ipython",
    "version": 3
   },
   "file_extension": ".py",
   "mimetype": "text/x-python",
   "name": "python",
   "nbconvert_exporter": "python",
   "pygments_lexer": "ipython3",
   "version": "3.6.1"
  }
 },
 "nbformat": 4,
 "nbformat_minor": 2
}
