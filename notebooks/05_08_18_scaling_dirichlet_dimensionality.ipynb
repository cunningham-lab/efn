{
 "cells": [
  {
   "cell_type": "code",
   "execution_count": 19,
   "metadata": {},
   "outputs": [
    {
     "name": "stdout",
     "output_type": "stream",
     "text": [
      "NF1_R2s\n",
      "[[0.         0.         0.         0.         0.         0.\n",
      "  0.         0.         0.         0.        ]\n",
      " [0.98277381 0.95692811 0.99174717 0.98026809 0.99247538 0.96856279\n",
      "  0.98013833 0.98981628 0.99159572 0.9912203 ]\n",
      " [0.         0.         0.         0.         0.         0.\n",
      "  0.         0.         0.         0.        ]\n",
      " [0.         0.         0.         0.         0.         0.\n",
      "  0.         0.         0.         0.        ]]\n",
      "NF1_KLs\n",
      "[[0.         0.         0.         0.         0.         0.\n",
      "  0.         0.         0.         0.        ]\n",
      " [0.07899986 0.13048483 0.05799565 0.09496293 0.06001163 0.08955284\n",
      "  0.05269118 0.04056716 0.05200143 0.05390109]\n",
      " [0.         0.         0.         0.         0.         0.\n",
      "  0.         0.         0.         0.        ]\n",
      " [0.         0.         0.         0.         0.         0.\n",
      "  0.         0.         0.         0.        ]]\n",
      "EFN10_fixed_R2s\n",
      "[[0. 0. 0. 0. 0. 0. 0. 0. 0. 0.]\n",
      " [0. 0. 0. 0. 0. 0. 0. 0. 0. 0.]\n",
      " [0. 0. 0. 0. 0. 0. 0. 0. 0. 0.]\n",
      " [0. 0. 0. 0. 0. 0. 0. 0. 0. 0.]]\n",
      "EFN10_fixed_KLs\n",
      "[[0. 0. 0. 0. 0. 0. 0. 0. 0. 0.]\n",
      " [0. 0. 0. 0. 0. 0. 0. 0. 0. 0.]\n",
      " [0. 0. 0. 0. 0. 0. 0. 0. 0. 0.]\n",
      " [0. 0. 0. 0. 0. 0. 0. 0. 0. 0.]]\n",
      "EFN10_stochastic_R2s\n",
      "[[0. 0. 0. 0. 0. 0. 0. 0. 0. 0.]\n",
      " [0. 0. 0. 0. 0. 0. 0. 0. 0. 0.]\n",
      " [0. 0. 0. 0. 0. 0. 0. 0. 0. 0.]\n",
      " [0. 0. 0. 0. 0. 0. 0. 0. 0. 0.]]\n",
      "EFN10_stochastic__KLs\n",
      "[[0. 0. 0. 0. 0. 0. 0. 0. 0. 0.]\n",
      " [0. 0. 0. 0. 0. 0. 0. 0. 0. 0.]\n",
      " [0. 0. 0. 0. 0. 0. 0. 0. 0. 0.]\n",
      " [0. 0. 0. 0. 0. 0. 0. 0. 0. 0.]]\n"
     ]
    }
   ],
   "source": [
    "%matplotlib inline\n",
    "import numpy as np\n",
    "import matplotlib.pyplot as plt\n",
    "from plot_utils import plotCategoricalPerformance\n",
    "\n",
    "exp_fam = 'inv_wishart';\n",
    "\n",
    "flow_string = '30P';\n",
    "datadir = '/Users/sbittner/Documents/efn/results/scaling_dim/';\n",
    "if (exp_fam == 'dirichlet'):\n",
    "    Ds = [5, 15, 25];\n",
    "elif (exp_fam == 'inv_wishart'):\n",
    "    Ds = [4, 9, 16, 25];\n",
    "num_Ds = len(Ds);\n",
    "M = 100;\n",
    "nsamps = 10;\n",
    "\n",
    "NF1_R2s = np.zeros((num_Ds,nsamps));\n",
    "NF1_KLs = np.zeros((num_Ds,nsamps));\n",
    "\n",
    "EFN10_fixed_R2s = np.zeros((num_Ds,nsamps));\n",
    "EFN10_fixed_KLs = np.zeros((num_Ds,nsamps));\n",
    "\n",
    "EFN10_stochastic_R2s = np.zeros((num_Ds,nsamps));\n",
    "EFN10_stochastic_KLs = np.zeros((num_Ds,nsamps));\n",
    "\n",
    "\n",
    "\n",
    "for i in range(num_Ds):\n",
    "    D = Ds[i];\n",
    "    for rs in range(1,nsamps+1):\n",
    "        fname = datadir + 'EFN_%s_fixedEta_D=%d_K=1_M=%d_flow=%s_L=8_rs=%d/results.npz' % (exp_fam, D, M, flow_string, rs);\n",
    "        try:\n",
    "            X = np.load(fname);\n",
    "            NF1_R2s[i,rs-1] = X['train_R2s'][-1,0];\n",
    "            NF1_KLs[i,rs-1] = X['train_KLs'][-1,0];\n",
    "        except:\n",
    "            continue;\n",
    "    rs = 1;\n",
    "    try:\n",
    "        fname = datadir + 'EFN_%s_fixedEta_D=%d_K=10_M=%d_flow=%s_L=8_rs=%d/results.npz' % (exp_fam, D, M, flow_string, rs);\n",
    "        X = np.load(fname);\n",
    "        EFN10_fixed_R2s[i,:] = X['train_R2s'][-1,:];\n",
    "        EFN10_fixed_KLs[i,:] = X['train_KLs'][-1,:];\n",
    "    except:\n",
    "        pass;\n",
    "    \n",
    "    try:\n",
    "        fname = datadir + 'EFN_%s_stochaticEta_D=%d_K=10_M=%d_flow=%s_L=8_rs=%d/results.npz' % (exp_fam, D, M, flow_string, rs);\n",
    "        X = np.load(fname);\n",
    "        EFN10_stochastic_R2s[i,:] = X['train_R2s'][-1,:];\n",
    "        EFN10_stochastic_KLs[i,:] = X['train_KLs'][-1,:];\n",
    "    except:\n",
    "        pass;\n",
    "    \n",
    "    \n",
    "print('NF1_R2s');\n",
    "print(NF1_R2s);\n",
    "print('NF1_KLs');\n",
    "print(NF1_KLs);\n",
    "\n",
    "print('EFN10_fixed_R2s');\n",
    "print(EFN10_fixed_R2s);\n",
    "print('EFN10_fixed_KLs');\n",
    "print(EFN10_fixed_KLs);\n",
    "\n",
    "print('EFN10_stochastic_R2s');\n",
    "print(EFN10_stochastic_R2s);\n",
    "print('EFN10_stochastic__KLs');\n",
    "print(EFN10_stochastic_KLs);\n",
    "\n"
   ]
  },
  {
   "cell_type": "code",
   "execution_count": 16,
   "metadata": {},
   "outputs": [
    {
     "name": "stdout",
     "output_type": "stream",
     "text": [
      "(3, 3, 10) (3, 3, 10)\n"
     ]
    }
   ],
   "source": [
    "R2s = np.concatenate((np.expand_dims(NF1_R2s, 0), np.expand_dims(EFN10_fixed_R2s, 0), np.expand_dims(EFN10_stochastic_R2s, 0)), 0);\n",
    "KLs = np.concatenate((np.expand_dims(NF1_KLs, 0), np.expand_dims(EFN10_fixed_KLs, 0), np.expand_dims(EFN10_stochastic_KLs, 0)), 0);\n",
    "\n",
    "print(R2s.shape, KLs.shape);"
   ]
  },
  {
   "cell_type": "code",
   "execution_count": 17,
   "metadata": {},
   "outputs": [
    {
     "name": "stdout",
     "output_type": "stream",
     "text": [
      "[5, 15, 25]\n",
      "(3, 3, 10) (3, 3, 10)\n"
     ]
    },
    {
     "data": {
      "image/png": "[encoded data removed]",
      "text/plain": [
       "<matplotlib.figure.Figure at 0x115cbe2b0>"
      ]
     },
     "metadata": {},
     "output_type": "display_data"
    }
   ],
   "source": [
    "print(Ds);\n",
    "fontsize = 14;\n",
    "dotsize = 20;\n",
    "x = np.array(Ds);\n",
    "print(R2s.shape, KLs.shape);\n",
    "legendstrs = ['NF1', 'EFN10_fixedEta', 'EFN10_stochasticEta'];\n",
    "fig = plt.figure(figsize=(12, 8));\n",
    "ax = fig.add_subplot(1,2,1);\n",
    "plotCategoricalPerformance(x, R2s, legendstrs, plottype='scatter', dotsize=dotsize);\n",
    "ax.set_xticks(x);\n",
    "ax.set_xticklabels(Ds);\n",
    "plt.xlabel('D', fontsize=fontsize);\n",
    "plt.ylabel('R2', fontsize=fontsize);\n",
    "plt.xlim([0, 30]);\n",
    "#plt.ylim([0, 1.02]);\n",
    "\n",
    "ax = fig.add_subplot(1,2,2);\n",
    "plotCategoricalPerformance(x, KLs, plottype='scatter', dotsize=dotsize);\n",
    "plt.xlim([0, 30]);\n",
    "ax.set_xticks(x);\n",
    "ax.set_xticklabels(Ds);\n",
    "plt.xlabel('D', fontsize=fontsize);\n",
    "plt.ylabel('KL', fontsize=fontsize);\n",
    "#plt.ylim([0, 1]);\n",
    "plt.suptitle(exp_fam, fontsize=fontsize+2);\n",
    "plt.show();"
   ]
  },
  {
   "cell_type": "code",
   "execution_count": null,
   "metadata": {
    "collapsed": true
   },
   "outputs": [],
   "source": []
  }
 ],
 "metadata": {
  "kernelspec": {
   "display_name": "Python 3",
   "language": "python",
   "name": "python3"
  },
  "language_info": {
   "codemirror_mode": {
    "name": "ipython",
    "version": 3
   },
   "file_extension": ".py",
   "mimetype": "text/x-python",
   "name": "python",
   "nbconvert_exporter": "python",
   "pygments_lexer": "ipython3",
   "version": "3.6.1"
  }
 },
 "nbformat": 4,
 "nbformat_minor": 2
}
