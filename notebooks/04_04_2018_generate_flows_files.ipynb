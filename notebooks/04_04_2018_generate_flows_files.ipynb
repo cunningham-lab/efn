{
 "cells": [
  {
   "cell_type": "code",
   "execution_count": 3,
   "metadata": {
    "collapsed": true
   },
   "outputs": [],
   "source": [
    "%matplotlib inline\n",
    "import numpy as np\n",
    "from utils import rvs\n",
    "import scipy\n",
    "from scipy.stats import multivariate_normal\n",
    "from scipy.special import psi\n",
    "import matplotlib.pyplot as plt\n",
    "\n",
    "np.random.seed(0);\n",
    "flowdir = '/Users/sbittner/Documents/efn/flows/'\n",
    "\n",
    "num_linear = [0, 1, 2];\n",
    "num_planar = [0, 1, 2, 4, 8];\n",
    "N_l = len(num_linear);\n",
    "N_p = len(num_planar);\n",
    "K = 0;\n",
    "\n",
    "for i in range(N_l):\n",
    "    num_linear_layers = num_linear[i];\n",
    "    for j in range(N_p):\n",
    "        num_planar_layers = num_planar[j];\n",
    "        if (num_linear_layers == 0):\n",
    "            if (num_planar_layers == 0):\n",
    "                continue;\n",
    "            else:\n",
    "                fname = 'planar%d' % num_planar_layers;\n",
    "        else:\n",
    "            if (num_planar_layers == 0):\n",
    "                fname = 'linear%d' % num_linear_layers;\n",
    "            else:\n",
    "                fname = 'linear%d_planar%d' % (num_linear_layers, num_planar_layers);\n",
    "        np.savez(flowdir + fname + '.npz', num_linear_layers=num_linear_layers, \\\n",
    "                                           num_planar_layers=num_planar_layers, \\\n",
    "                                           K=K);"
   ]
  },
  {
   "cell_type": "code",
   "execution_count": null,
   "metadata": {
    "collapsed": true
   },
   "outputs": [],
   "source": []
  }
 ],
 "metadata": {
  "kernelspec": {
   "display_name": "Python 3",
   "language": "python",
   "name": "python3"
  },
  "language_info": {
   "codemirror_mode": {
    "name": "ipython",
    "version": 3
   },
   "file_extension": ".py",
   "mimetype": "text/x-python",
   "name": "python",
   "nbconvert_exporter": "python",
   "pygments_lexer": "ipython3",
   "version": "3.6.1"
  }
 },
 "nbformat": 4,
 "nbformat_minor": 2
}
