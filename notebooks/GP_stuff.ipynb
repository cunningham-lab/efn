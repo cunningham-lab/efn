{
 "cells": [
  {
   "cell_type": "code",
   "execution_count": 24,
   "metadata": {},
   "outputs": [
    {
     "data": {
      "image/png": "[encoded data removed]",
      "text/plain": [
       "<matplotlib.figure.Figure at 0x111e6fd68>"
      ]
     },
     "metadata": {},
     "output_type": "display_data"
    }
   ],
   "source": [
    "%matplotlib inline\n",
    "import numpy as np\n",
    "import matplotlib.pyplot as plt\n",
    "\n",
    "def drawGP(L):\n",
    "    T = L.shape[0];\n",
    "    w = np.random.normal(0,1,(T,));\n",
    "    x = np.dot(L, w)\n",
    "    return x;\n",
    "\n",
    "# helper for GP regression\n",
    "def compute_K(tau, T, Ts):\n",
    "    K = np.zeros((T, T));\n",
    "    for i in range(T):\n",
    "        for j in range(i,T):\n",
    "            diff = (i-j)*Ts;\n",
    "            K[i,j] = np.exp(-(np.abs(diff)**2) / (2*(tau**2)));\n",
    "            if (i != j):\n",
    "                K[j,i] = K[i,j];\n",
    "    return K; \n",
    "\n",
    "tau = .024;\n",
    "T = 20;\n",
    "Ts = .02;\n",
    "K = compute_K(tau, T, Ts);\n",
    "plt.figure();\n",
    "plt.imshow(K);\n",
    "plt.colorbar();\n",
    "plt.show()"
   ]
  },
  {
   "cell_type": "code",
   "execution_count": 25,
   "metadata": {},
   "outputs": [
    {
     "name": "stdout",
     "output_type": "stream",
     "text": [
      "0.7066482778577162\n"
     ]
    }
   ],
   "source": [
    "print(K[0,1]);"
   ]
  },
  {
   "cell_type": "code",
   "execution_count": null,
   "metadata": {
    "collapsed": true
   },
   "outputs": [],
   "source": []
  }
 ],
 "metadata": {
  "kernelspec": {
   "display_name": "Python 3",
   "language": "python",
   "name": "python3"
  },
  "language_info": {
   "codemirror_mode": {
    "name": "ipython",
    "version": 3
   },
   "file_extension": ".py",
   "mimetype": "text/x-python",
   "name": "python",
   "nbconvert_exporter": "python",
   "pygments_lexer": "ipython3",
   "version": "3.6.1"
  }
 },
 "nbformat": 4,
 "nbformat_minor": 2
}
