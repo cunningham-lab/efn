{
 "cells": [
  {
   "cell_type": "code",
   "execution_count": 33,
   "metadata": {
    "collapsed": true
   },
   "outputs": [],
   "source": [
    "%matplotlib inline\n",
    "import numpy as np\n",
    "import matplotlib.pyplot as plt\n",
    "from mefn_util import simulate_VAR, compute_VAR_cov_np, compute_VAR_cov_tf\n"
   ]
  },
  {
   "cell_type": "code",
   "execution_count": 34,
   "metadata": {},
   "outputs": [],
   "source": [
    "# parameterize the VAR process\n",
    "T = 5;\n",
    "n = 1000;\n",
    "As = np.array(([[[ 0.05126342, -0.06523398],\n",
    "                 [ 0.07478886, -0.04797942]], \\\n",
    "                [[ 0.0111496,   0.01007742], \\\n",
    "                 [-0.01519052,  0.00791176]]]), np.float32);\n",
    "As = 10*As;\n",
    "K = As.shape[0];\n",
    "D = As.shape[1];\n",
    "sigma_eps = .5;\n",
    "Sigma_eps = np.square(sigma_eps)*np.diag(np.ones((2,), np.float32));\n"
   ]
  },
  {
   "cell_type": "code",
   "execution_count": 35,
   "metadata": {},
   "outputs": [
    {
     "data": {
      "image/png": "[encoded data removed]",
      "text/plain": [
       "<matplotlib.figure.Figure at 0x11f44a8d0>"
      ]
     },
     "metadata": {},
     "output_type": "display_data"
    }
   ],
   "source": [
    "# Compute the empricial covariance of a simulation\n",
    "Zs = np.zeros((D*T, n));\n",
    "np.random.seed(10);\n",
    "for i in range(n):\n",
    "    Zs[:,i] = np.reshape(simulate_VAR(As, Sigma_eps, T).T, (D*T,)).T;\n",
    "\n",
    "Z_mc = Zs - np.expand_dims(np.mean(Zs, 1), 1);\n",
    "Zcov = np.dot(Z_mc, Z_mc.T) / n;\n",
    "plt.figure(figsize=(4,4));\n",
    "plt.imshow(Zcov);\n",
    "plt.colorbar();\n",
    "plt.show();"
   ]
  },
  {
   "cell_type": "code",
   "execution_count": 36,
   "metadata": {},
   "outputs": [
    {
     "data": {
      "image/png": "[encoded data removed]",
      "text/plain": [
       "<matplotlib.figure.Figure at 0x1208a5160>"
      ]
     },
     "metadata": {},
     "output_type": "display_data"
    },
    {
     "name": "stdout",
     "output_type": "stream",
     "text": [
      "[[ 1.          0.          0.51263422  0.74788862 -0.11358769 -0.12734451\n",
      "   0.15736751 -0.04255243  0.082933    0.14528915]\n",
      " [ 0.          1.         -0.65233982 -0.47979417  0.07935133 -0.17855747\n",
      "   0.0360742   0.20615044 -0.1251339  -0.09811122]\n",
      " [ 0.51263422 -0.65233982  0.93834108  0.69638216  0.01816559  0.23817115\n",
      "   0.02874241 -0.18813011  0.163486    0.12784393]\n",
      " [ 0.74788862 -0.47979417  0.69638216  1.03953981 -0.2861082  -0.12951722\n",
      "   0.12022301 -0.17537363  0.13108172  0.2072709 ]\n",
      " [-0.11358769  0.07935133  0.01816559 -0.2861082   0.44128406  0.17439149\n",
      "   0.08564784  0.22096365 -0.0334618  -0.09519794]\n",
      " [-0.12734451 -0.17855747  0.23817115 -0.12951722  0.17439149  0.49548435\n",
      "  -0.22032197 -0.15373159  0.05671666 -0.07830622]\n",
      " [ 0.15736751  0.0360742   0.02874241  0.12022301  0.08564784 -0.22032197\n",
      "   0.45295087  0.1749099   0.10544405  0.22439434]\n",
      " [-0.04255243  0.20615044 -0.18813011 -0.17537363  0.22096365 -0.15373159\n",
      "   0.1749099   0.50371855 -0.22978648 -0.15659652]\n",
      " [ 0.082933   -0.1251339   0.163486    0.13108172 -0.0334618   0.05671666\n",
      "   0.10544405 -0.22978648  0.4559378   0.19868094]\n",
      " [ 0.14528915 -0.09811122  0.12784393  0.2072709  -0.09519794 -0.07830622\n",
      "   0.22439434 -0.15659652  0.19868094  0.50122172]]\n",
      "diff to sim 0.245454282276\n"
     ]
    }
   ],
   "source": [
    "# Compute the analytic covariance of the VAR model\n",
    "\n",
    "# initialize the covariance matrix\n",
    "zcov = np.zeros((D*T, D*T));\n",
    "\n",
    "# compute the block-diagonal covariance\n",
    "zcov[:D, :D] = np.eye(D);\n",
    "\n",
    "# compute the lagged noise-state covariance\n",
    "gamma = [Sigma_eps];\n",
    "for t in range(1,T):\n",
    "    gamma_t = np.zeros((D,D));\n",
    "    for k in range(1, min(t,K)+1):\n",
    "        gamma_t += np.dot(As[k-1], gamma[t-k]);\n",
    "    gamma.append(gamma_t);\n",
    "\n",
    "# compute the off-block-diagonal covariance blocks\n",
    "# first row\n",
    "for s in range(1, T):\n",
    "    zcov_0s = np.zeros((D,D));\n",
    "    for k in range(1, min(s, K)+1):\n",
    "        tau = s-k;\n",
    "        zcov_0tau = zcov[:D, (D*tau):(D*(tau+1))]\n",
    "        zcov_0s += np.dot(zcov_0tau, As[k-1].T);\n",
    "    zcov[:D, (D*s):(D*(s+1))] = zcov_0s;\n",
    "    zcov[(D*s):(D*(s+1)), :D] = zcov_0s.T;\n",
    "        \n",
    "# remaining rows\n",
    "for t in range(1,T):\n",
    "    for s in range(t, T):\n",
    "        if (s==t):\n",
    "            zcov_ts = Sigma_eps.copy();\n",
    "        else:\n",
    "            zcov_ts = np.zeros((D,D));\n",
    "        # compute the contribution of lagged state-state covariances\n",
    "        for k_t in range(1, min(t,K)+1):\n",
    "            tau_t = t-k_t;\n",
    "            for k_s in range(1, min(s,K)+1):\n",
    "                tau_s = s-k_s;\n",
    "                zcov_tauttaus = zcov[(D*tau_t):(D*(tau_t+1)), (D*tau_s):(D*(tau_s+1))]\n",
    "                zcov_ts += np.dot(As[k_t-1], np.dot(zcov_tauttaus, As[k_s-1].T));\n",
    "        \n",
    "        # compute the contribution of lagged noise-state covariances\n",
    "        for k in range(1, min(s,K)+1):\n",
    "            tau_s = s-k;\n",
    "            if (tau_s >= t):\n",
    "                zcov_ts += np.dot(gamma[tau_s-t].T, As[k-1].T);\n",
    "        \n",
    "        zcov[(D*t):(D*(t+1)), (D*s):(D*(s+1))] = zcov_ts;\n",
    "        zcov[(D*s):(D*(s+1)), (D*t):(D*(t+1))] = zcov_ts.T;\n",
    "    \n",
    "# visualize the analytic covariance\n",
    "plt.figure();\n",
    "plt.imshow(zcov);\n",
    "plt.colorbar();\n",
    "plt.show();\n",
    "\n",
    "zcov_np = zcov;\n",
    "print(zcov);\n",
    "print('diff to sim', np.linalg.norm(zcov-Zcov));\n"
   ]
  },
  {
   "cell_type": "code",
   "execution_count": 23,
   "metadata": {},
   "outputs": [
    {
     "data": {
      "image/png": "[encoded data removed]",
      "text/plain": [
       "<matplotlib.figure.Figure at 0x121404d30>"
      ]
     },
     "metadata": {},
     "output_type": "display_data"
    }
   ],
   "source": [
    "import tensorflow as tf\n",
    "\n",
    "def compute_VAR_cov_tf_jn(As, Sigma_eps, T):\n",
    "    As = np.float32(As);\n",
    "    Sigma_eps = np.float32(Sigma_eps);\n",
    "    # initialize the covariance matrix\n",
    "    zcov = [[tf.eye(D)]];\n",
    "\n",
    "    # compute the lagged noise-state covariance\n",
    "    gamma = [Sigma_eps];\n",
    "    for t in range(1,T):\n",
    "        gamma_t = tf.zeros((D,D));\n",
    "        for k in range(1, min(t,K)+1):\n",
    "            gamma_t += tf.matmul(As[k-1], gamma[t-k]);\n",
    "        gamma.append(gamma_t);\n",
    "\n",
    "    # compute the off-block-diagonal covariance blocks\n",
    "    # first row\n",
    "    for s in range(1, T):\n",
    "        zcov_0s = tf.zeros((D,D));\n",
    "        for k in range(1, min(s, K)+1):\n",
    "            tau = s-k;\n",
    "            zcov_0tau = zcov[0][tau];\n",
    "            zcov_0s += tf.matmul(zcov_0tau, As[k-1].T);\n",
    "        zcov[0].append(zcov_0s);\n",
    "        zcov.append([tf.transpose(zcov_0s)]);\n",
    "\n",
    "    # remaining rows\n",
    "    for t in range(1,T):\n",
    "        for s in range(t, T):\n",
    "            zcov_ts = tf.zeros((D,D));\n",
    "            # compute the contribution of lagged state-state covariances\n",
    "            for k_t in range(1, min(t,K)+1):\n",
    "                tau_t = t-k_t;\n",
    "                for k_s in range(1, min(s,K)+1):\n",
    "                    tau_s = s-k_s;\n",
    "                    zcov_tauttaus = zcov[tau_t][tau_s];\n",
    "                    zcov_ts += tf.matmul(As[k_t-1], tf.matmul(zcov_tauttaus, As[k_s-1].T));\n",
    "            # compute the contribution of lagged noise-state covariances\n",
    "            if (t==s):\n",
    "                zcov_ts += Sigma_eps;\n",
    "            for k in range(1, min(s,K)+1):\n",
    "                tau_s = s-k;\n",
    "                if (tau_s >= t):\n",
    "                    zcov_ts += tf.matmul(tf.transpose(gamma[tau_s-t]), As[k-1].T);\n",
    "\n",
    "            zcov[t].append(zcov_ts);\n",
    "            if (t != s):\n",
    "                zcov[s].append(tf.transpose(zcov_ts));\n",
    "                \n",
    "    zcov = tf.convert_to_tensor(zcov);\n",
    "    Zcov = tf.reshape(tf.transpose(zcov, [0,2,1,3]), (D*T, D*T));\n",
    "    return Zcov;\n",
    "\n",
    "Zcov = compute_VAR_cov_tf_jn(As, Sigma_eps, T);\n",
    "\n",
    "sess = tf.Session();\n",
    "_Zcov = sess.run(Zcov);\n",
    "\n",
    "plt.figure();\n",
    "plt.imshow(_Zcov);\n",
    "plt.colorbar();\n",
    "plt.show();"
   ]
  },
  {
   "cell_type": "code",
   "execution_count": 12,
   "metadata": {},
   "outputs": [
    {
     "data": {
      "image/png": "[encoded data removed]",
      "text/plain": [
       "<matplotlib.figure.Figure at 0x11f1e41d0>"
      ]
     },
     "metadata": {},
     "output_type": "display_data"
    },
    {
     "data": {
      "image/png": "[encoded data removed]",
      "text/plain": [
       "<matplotlib.figure.Figure at 0x11f396438>"
      ]
     },
     "metadata": {},
     "output_type": "display_data"
    }
   ],
   "source": [
    "Zcov = compute_VAR_cov_tf(As, Sigma_eps, D, K, T);\n",
    "\n",
    "sess = tf.Session();\n",
    "_Zcov = sess.run(Zcov);\n",
    "\n",
    "plt.figure();\n",
    "plt.imshow(_Zcov);\n",
    "plt.colorbar();\n",
    "plt.title('mefn_util tensorflow result');\n",
    "plt.show();\n",
    "\n",
    "Zcov_np = compute_VAR_cov_np(As, Sigma_eps, D, K, T);\n",
    "plt.figure();\n",
    "plt.imshow(Zcov_np);\n",
    "plt.colorbar();\n",
    "\n",
    "plt.title('mefn_util numpy result');\n",
    "plt.show();"
   ]
  },
  {
   "cell_type": "code",
   "execution_count": 7,
   "metadata": {},
   "outputs": [
    {
     "name": "stdout",
     "output_type": "stream",
     "text": [
      "(30, 20)\n",
      "[  0.  10.   1.  11.   2.  12.   3.  13.   4.  14.   5.  15.   6.  16.   7.\n",
      "  17.   8.  18.   9.  19.]\n"
     ]
    }
   ],
   "source": [
    "# check reshaping\n",
    "x = np.zeros((30, 2, 10));\n",
    "for i in range(30):\n",
    "    x[i,:,:] = np.array([np.arange(10),np.arange(10,20)]);\n",
    "\n",
    "X = tf.placeholder(tf.float32, (30, 2, 10));\n",
    "Y = tf.reshape(tf.transpose(X, [0, 2, 1]) , (30, 20));\n",
    "sess = tf.Session();\n",
    "_Y = sess.run(Y, {X:x});\n",
    "print(_Y.shape);\n",
    "print(_Y[0])"
   ]
  },
  {
   "cell_type": "code",
   "execution_count": null,
   "metadata": {
    "collapsed": true
   },
   "outputs": [],
   "source": []
  }
 ],
 "metadata": {
  "kernelspec": {
   "display_name": "Python 3",
   "language": "python",
   "name": "python3"
  },
  "language_info": {
   "codemirror_mode": {
    "name": "ipython",
    "version": 3
   },
   "file_extension": ".py",
   "mimetype": "text/x-python",
   "name": "python",
   "nbconvert_exporter": "python",
   "pygments_lexer": "ipython3",
   "version": "3.6.1"
  }
 },
 "nbformat": 4,
 "nbformat_minor": 2
}
