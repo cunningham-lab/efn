{
 "cells": [
  {
   "cell_type": "code",
   "execution_count": 1,
   "metadata": {
    "collapsed": true
   },
   "outputs": [],
   "source": [
    "%matplotlib inline\n",
    "import numpy as np\n",
    "import matplotlib.pyplot as plt\n",
    "# ****************************************************\n",
    "a = .5;\n",
    "tau0 = 1.0;\n",
    "tau1 = a*tau0;\n",
    "\n",
    "explained_var = a*tau1\n",
    "sigma_epsilon = np.sqrt(tau0 - explained_var);"
   ]
  },
  {
   "cell_type": "code",
   "execution_count": 2,
   "metadata": {},
   "outputs": [
    {
     "data": {
      "text/plain": [
       "'# compute expected AR variance via simulation\\nn = 32;\\nTs = np.arange(10, 1000, 20);\\nnum_Ts = len(Ts);\\nmean_vars = np.zeros((num_Ts,));\\nstd_vars = np.zeros((num_Ts,));\\nfor ii in range(num_Ts):\\n    T = Ts[ii];\\n    # simulate the AR process:\\n    X = np.zeros((n, T));\\n    for i in range(n):\\n        X[i,0] = np.random.normal(0, 1);\\n        for j in range(1, T):\\n            X[i,j] = a*X[i,j-1] + np.random.normal(0, sigma_epsilon);\\n\\n\\n    X_mean = np.mean(X, 1);\\n    X_mc = X - np.expand_dims(X_mean, 1);\\n    X_var = np.zeros((n,));\\n    for i in range(n):\\n        X_var[i] = np.dot(X_mc[i,:], X_mc[i,:].T) / T;\\n    mean_vars[ii] = np.mean(X_var);\\n    std_vars[ii] = np.std(X_var);\\n'"
      ]
     },
     "execution_count": 2,
     "metadata": {},
     "output_type": "execute_result"
    }
   ],
   "source": [
    "\"\"\"# compute expected AR variance via simulation\n",
    "n = 32;\n",
    "Ts = np.arange(10, 1000, 20);\n",
    "num_Ts = len(Ts);\n",
    "mean_vars = np.zeros((num_Ts,));\n",
    "std_vars = np.zeros((num_Ts,));\n",
    "for ii in range(num_Ts):\n",
    "    T = Ts[ii];\n",
    "    # simulate the AR process:\n",
    "    X = np.zeros((n, T));\n",
    "    for i in range(n):\n",
    "        X[i,0] = np.random.normal(0, 1);\n",
    "        for j in range(1, T):\n",
    "            X[i,j] = a*X[i,j-1] + np.random.normal(0, sigma_epsilon);\n",
    "\n",
    "\n",
    "    X_mean = np.mean(X, 1);\n",
    "    X_mc = X - np.expand_dims(X_mean, 1);\n",
    "    X_var = np.zeros((n,));\n",
    "    for i in range(n):\n",
    "        X_var[i] = np.dot(X_mc[i,:], X_mc[i,:].T) / T;\n",
    "    mean_vars[ii] = np.mean(X_var);\n",
    "    std_vars[ii] = np.std(X_var);\n",
    "\"\"\"\n",
    "\n"
   ]
  },
  {
   "cell_type": "code",
   "execution_count": null,
   "metadata": {
    "collapsed": true
   },
   "outputs": [],
   "source": [
    "# compute expected variance analytically\n",
    "Ts = np.arange(10, 300, 20);\n",
    "num_Ts = len(Ts);\n",
    "exp_vars = np.zeros((num_Ts,));\n",
    "for jj in range(num_Ts):\n",
    "    T = Ts[jj];\n",
    "    print(T)\n",
    "    second_moments = np.zeros((T,T));\n",
    "    for i in range(T):\n",
    "        for j in range(i,T):\n",
    "            noise_factor = 0.0;\n",
    "            for ii in range(1,i+1):\n",
    "                noise_factor += a**(i+j-2*ii);\n",
    "            second_moments[i,j] = (a**(i+j))*tau0 + noise_factor*(sigma_epsilon**2);\n",
    "            if (i != j):\n",
    "                second_moments[j,i] = second_moments[i,j];\n",
    "\n",
    "    var_ts = np.zeros((T,));\n",
    "    for t in range(T):\n",
    "        term1 = tau0; #(a**(2*t))*tau0 + ((sigma_epsilon**2)*(1 - (a**t))/(1 - a));\n",
    "        term2 = np.mean(second_moments[t,:]);\n",
    "        term3 = np.mean(second_moments);\n",
    "        var_ts[t] = term1 - 2*term2 + term3;\n",
    "    exp_vars[jj] = np.mean(var_ts);\n"
   ]
  },
  {
   "cell_type": "code",
   "execution_count": null,
   "metadata": {
    "collapsed": true
   },
   "outputs": [],
   "source": [
    "plt.figure();\n",
    "Ts_arr = np.array(Ts);\n",
    "plt.plot(Ts_arr, exp_vars,'b');\n",
    "#plt.plot(Ts, exp_vars, 'g');\n",
    "#plt.legend(['estimated AR1 variance', 'analytic variance'])\n",
    "plt.xlabel('T');\n",
    "plt.ylabel('variance of AR-1 process');\n",
    "plt.show();"
   ]
  },
  {
   "cell_type": "code",
   "execution_count": null,
   "metadata": {
    "collapsed": true
   },
   "outputs": [],
   "source": []
  }
 ],
 "metadata": {
  "kernelspec": {
   "display_name": "Python 3",
   "language": "python",
   "name": "python3"
  },
  "language_info": {
   "codemirror_mode": {
    "name": "ipython",
    "version": 3
   },
   "file_extension": ".py",
   "mimetype": "text/x-python",
   "name": "python",
   "nbconvert_exporter": "python",
   "pygments_lexer": "ipython3",
   "version": "3.6.1"
  }
 },
 "nbformat": 4,
 "nbformat_minor": 2
}
