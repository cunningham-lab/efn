{
 "cells": [
  {
   "cell_type": "code",
   "execution_count": 1,
   "metadata": {},
   "outputs": [],
   "source": [
    "%matplotlib inline\n",
    "import matplotlib.pyplot as plt\n",
    "import numpy as np\n",
    "from scipy.stats import dirichlet, multivariate_normal\n",
    "from dirichlet.simplex import scatter\n",
    "import tensorflow as tf"
   ]
  },
  {
   "cell_type": "code",
   "execution_count": 2,
   "metadata": {},
   "outputs": [],
   "source": [
    "D = 3;\n",
    "x = tf.placeholder(tf.float32, (None,D));\n",
    "log_alpha = tf.get_variable('alpha', (D,));"
   ]
  },
  {
   "cell_type": "code",
   "execution_count": 14,
   "metadata": {},
   "outputs": [],
   "source": [
    "alpha = tf.exp(log_alpha);\n",
    "\n",
    "alpha_0 = tf.reduce_sum(alpha);\n",
    "log_gamma_alpha_0 = tf.lgamma(alpha_0);\n",
    "sum_log_gamma_alpha = tf.reduce_sum(tf.lgamma(alpha));\n",
    "\n",
    "log_x = tf.reduce_mean(tf.log(x), 0);\n",
    "\n",
    "dotprod_term = tf.tensordot(alpha-1, log_x, [0,0]);\n",
    "\n",
    "N = tf.cast(tf.shape(x)[0], tf.float32);\n",
    "log_lik = N*(log_gamma_alpha_0 - sum_log_gamma_alpha + dotprod_term);\n",
    "\n",
    "grad = tf.gradients(-log_lik, alpha);\n",
    "\n",
    "optimizer = tf.train.GradientDescentOptimizer(1e-5);\n",
    "ts = optimizer.minimize(-log_lik);\n"
   ]
  },
  {
   "cell_type": "code",
   "execution_count": 22,
   "metadata": {},
   "outputs": [
    {
     "data": {
      "image/png": "[encoded data removed]",
      "text/plain": [
       "<matplotlib.figure.Figure at 0x123920550>"
      ]
     },
     "metadata": {},
     "output_type": "display_data"
    },
    {
     "name": "stdout",
     "output_type": "stream",
     "text": [
      "0 LL = -2.1556E+04\n",
      "100 LL = 2.9694E+04  delta = 1.91E-06 alpha =  [1.9158534  0.29459885 2.9197285 ]\n",
      "200 LL = 2.9695E+04  delta = -1.32E-07 alpha =  [1.9370807  0.29609656 2.9533634 ]\n",
      "300 LL = 2.9695E+04  delta = -1.32E-07 alpha =  [1.9374363  0.29612178 2.953927  ]\n",
      "400 LL = 2.9695E+04  delta = 0.00E+00 alpha =  [1.9374382 0.2961218 2.9539287]\n",
      "500 LL = 2.9695E+04  delta = 0.00E+00 alpha =  [1.9374382 0.2961218 2.9539287]\n",
      "600 LL = 2.9695E+04  delta = 0.00E+00 alpha =  [1.9374382 0.2961218 2.9539287]\n",
      "700 LL = 2.9695E+04  delta = 0.00E+00 alpha =  [1.9374382 0.2961218 2.9539287]\n",
      "800 LL = 2.9695E+04  delta = 0.00E+00 alpha =  [1.9374382 0.2961218 2.9539287]\n",
      "900 LL = 2.9695E+04  delta = 0.00E+00 alpha =  [1.9374382 0.2961218 2.9539287]\n",
      "1000 LL = 2.9695E+04  delta = 0.00E+00 alpha =  [1.9374382 0.2961218 2.9539287]\n"
     ]
    }
   ],
   "source": [
    "N = 10000;\n",
    "_alpha = np.array([2.0, .3, 3.0]);\n",
    "dist = dirichlet(_alpha);\n",
    "print_rate = 100;\n",
    "\n",
    "_x = dist.rvs(N)\n",
    "plt.figure();\n",
    "scatter(_x);\n",
    "plt.show();\n",
    "\n",
    "num_iters = 1000;\n",
    "with tf.Session() as sess:\n",
    "    sess.run(tf.global_variables_initializer());\n",
    "    feed_dict = {x:_x};\n",
    "    _ts, _log_lik_prev, _alpha = sess.run([ts, log_lik, alpha], feed_dict);\n",
    "    print(0, 'LL = %.4E' % _log_lik_prev); \n",
    "    for i in range(1,num_iters):\n",
    "        _ts, _log_lik, _grad, _alpha = sess.run([ts, log_lik, grad, alpha], feed_dict);\n",
    "        delta = (_log_lik - _log_lik_prev) / _log_lik_prev;\n",
    "        _log_lik_prev = _log_lik;\n",
    "        \n",
    "        grad_norm = np.linalg.norm(_grad);\n",
    "        if (np.mod(i+1,print_rate)==0):\n",
    "            print(i+1, 'LL = %.4E  delta = %.2E' % (_log_lik, delta), 'alpha = ', _alpha);\n",
    "        "
   ]
  },
  {
   "cell_type": "code",
   "execution_count": null,
   "metadata": {
    "collapsed": true
   },
   "outputs": [],
   "source": []
  }
 ],
 "metadata": {
  "kernelspec": {
   "display_name": "Python 3",
   "language": "python",
   "name": "python3"
  },
  "language_info": {
   "codemirror_mode": {
    "name": "ipython",
    "version": 3
   },
   "file_extension": ".py",
   "mimetype": "text/x-python",
   "name": "python",
   "nbconvert_exporter": "python",
   "pygments_lexer": "ipython3",
   "version": "3.6.1"
  }
 },
 "nbformat": 4,
 "nbformat_minor": 2
}
