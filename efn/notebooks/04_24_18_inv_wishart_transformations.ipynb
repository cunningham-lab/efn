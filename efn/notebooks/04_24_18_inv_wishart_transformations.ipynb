{
 "cells": [
  {
   "cell_type": "code",
   "execution_count": 8,
   "metadata": {},
   "outputs": [
    {
     "name": "stdout",
     "output_type": "stream",
     "text": [
      "y\n",
      "[[3. 0. 0.]\n",
      " [5. 4. 0.]\n",
      " [2. 1. 0.]]\n",
      "z\n",
      "[[20.085537  0.        0.      ]\n",
      " [ 5.       54.59815   0.      ]\n",
      " [ 2.        1.        1.      ]]\n"
     ]
    }
   ],
   "source": [
    "%matplotlib inline\n",
    "\n",
    "import numpy as np\n",
    "import tensorflow as tf\n",
    "\n",
    "D = 3;\n",
    "D_Z = int(D*(D+1)/2);\n",
    "_x = np.arange(D_Z);\n",
    "x = tf.placeholder(tf.float32, shape=(None,));\n",
    "feed_dict = {x:_x};\n",
    "y = tf.contrib.distributions.fill_triangular(x);\n",
    "z = tf.contrib.distributions.matrix_diag_transform(y, tf.exp);\n",
    "\n",
    "sess = tf.Session();\n",
    "_y, _z = sess.run([y,z], feed_dict);\n",
    "\n",
    "print('y');\n",
    "print(_y);\n",
    "\n",
    "print('z');\n",
    "print(_z);"
   ]
  },
  {
   "cell_type": "code",
   "execution_count": 11,
   "metadata": {},
   "outputs": [
    {
     "name": "stdout",
     "output_type": "stream",
     "text": [
      "(1, 1, 5)\n",
      "z (3, 4, 5)\n",
      "[[[ 1.  2.  4.  8. 16.]\n",
      "  [ 1.  2.  4.  8. 16.]\n",
      "  [ 1.  2.  4.  8. 16.]\n",
      "  [ 1.  2.  4.  8. 16.]]\n",
      "\n",
      " [[ 1.  2.  4.  8. 16.]\n",
      "  [ 1.  2.  4.  8. 16.]\n",
      "  [ 1.  2.  4.  8. 16.]\n",
      "  [ 1.  2.  4.  8. 16.]]\n",
      "\n",
      " [[ 1.  2.  4.  8. 16.]\n",
      "  [ 1.  2.  4.  8. 16.]\n",
      "  [ 1.  2.  4.  8. 16.]\n",
      "  [ 1.  2.  4.  8. 16.]]]\n"
     ]
    }
   ],
   "source": [
    "x = tf.placeholder(tf.float32, shape=(3,4,5));\n",
    "y = tf.placeholder(tf.float32, shape=(1,1,5));\n",
    "z = tf.pow(x,y);\n",
    "\n",
    "_x = 2*np.ones((3,4,5));\n",
    "_y = np.expand_dims(np.expand_dims(np.arange(5), 0), 0);\n",
    "print(_y.shape);\n",
    "feed_dict = {x:_x, y:_y};\n",
    "_z = sess.run(z, feed_dict);\n",
    "print('z', _z.shape);\n",
    "print(_z)"
   ]
  },
  {
   "cell_type": "code",
   "execution_count": null,
   "metadata": {
    "collapsed": true
   },
   "outputs": [],
   "source": [
    "from scipy.stats import invwishart\n",
    "\n",
    "D = 2;\n",
    "Psi = np.eye()"
   ]
  }
 ],
 "metadata": {
  "kernelspec": {
   "display_name": "Python 3",
   "language": "python",
   "name": "python3"
  },
  "language_info": {
   "codemirror_mode": {
    "name": "ipython",
    "version": 3
   },
   "file_extension": ".py",
   "mimetype": "text/x-python",
   "name": "python",
   "nbconvert_exporter": "python",
   "pygments_lexer": "ipython3",
   "version": "3.6.1"
  }
 },
 "nbformat": 4,
 "nbformat_minor": 2
}
