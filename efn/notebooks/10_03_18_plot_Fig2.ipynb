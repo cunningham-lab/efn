{
 "cells": [
  {
   "cell_type": "code",
   "execution_count": 1,
   "metadata": {},
   "outputs": [
    {
     "name": "stdout",
     "output_type": "stream",
     "text": [
      "last in before zeros 3770\n",
      "convergence ind 3770\n",
      "results/dim_sweep/EFN_dirichlet_u_0.5to5.0_D=50_K=100_M=1000_flow=50P_L=7_rs=0/ was fine\n",
      "(3770,) (3770,)\n"
     ]
    },
    {
     "name": "stderr",
     "output_type": "stream",
     "text": [
      "/Users/sbittner/Library/Python/3.6/lib/python/site-packages/numpy/core/fromnumeric.py:2920: RuntimeWarning: Mean of empty slice.\n",
      "  out=out, **kwargs)\n",
      "/Users/sbittner/Library/Python/3.6/lib/python/site-packages/numpy/core/_methods.py:85: RuntimeWarning: invalid value encountered in double_scalars\n",
      "  ret = ret.dtype.type(ret / rcount)\n"
     ]
    }
   ],
   "source": [
    "%matplotlib inline\n",
    "%load_ext autoreload\n",
    "%autoreload 2\n",
    "import numpy as np\n",
    "import matplotlib\n",
    "import matplotlib.pyplot as plt\n",
    "from plot_utils import plotCategoricalPerformance\n",
    "import os\n",
    "import seaborn as sns\n",
    "import pandas as pd\n",
    "from tf_util.families import family_from_str\n",
    "from plot_util import EFN_model_df, find_last_ind, get_latest_diagnostics\n",
    "from efn_util import setup_IO, find_convergence, model_opt_hps\n",
    "\n",
    "matplotlib.rcParams['xtick.direction'] = 'out'\n",
    "matplotlib.rcParams['ytick.direction'] = 'out'\n",
    "\n",
    "font = {'family' : 'normal',\n",
    "        'weight' : 'normal',\n",
    "        'size'   : 18}\n",
    "\n",
    "matplotlib.rc('font', **font)\n",
    "\n",
    "basedir = '/Users/sbittner/Documents/efn/';\n",
    "dir_str = 'dim_sweep';\n",
    "\n",
    "exp_fam = 'dirichlet';\n",
    "\n",
    "datadir = '/Users/sbittner/Documents/efn/results/dim_sweep/';\n",
    "D = 50;\n",
    "model = 'EFN';\n",
    "L = 7;\n",
    "give_hint = False;\n",
    "        \n",
    "ds = 0;\n",
    "K = 100;\n",
    "M = 1000;\n",
    "\n",
    "rs = 0;\n",
    "wsize = 50;\n",
    "delta_thresh = 1e-10;\n",
    "\n",
    "max_iters = 1000000;\n",
    "min_iters = 50000;\n",
    "check_rate = 100;\n",
    "max_checks = np.int(max_iters // check_rate);\n",
    "min_checks = np.int(min_iters // check_rate);\n",
    "\n",
    "        \n",
    "if (D >= 20):\n",
    "    min_iters = 100000;\n",
    "else:\n",
    "    min_iters = 50000;\n",
    "\n",
    "\n",
    "fam_class = family_from_str(exp_fam);\n",
    "family = fam_class(D);\n",
    "D_Z, num_suff_stats, num_param_net_inputs, num_T_x_inputs = family.get_efn_dims('eta', give_hint);\n",
    "\n",
    "\n",
    "TIF_flow_type, nlayers, scale_layer, lr_order = model_opt_hps(exp_fam, D);\n",
    "param_net_hps = {'L':L};\n",
    "\n",
    "flow_dict = {'latent_dynamics':None, \\\n",
    "             'scale_layer':scale_layer, \\\n",
    "             'TIF_flow_type':TIF_flow_type, \\\n",
    "             'repeats':nlayers};\n",
    "dist_info = {'dist_seed':ds};\n",
    "model_dir = setup_IO(family, model, dir_str, 'eta', K, M, flow_dict, \\\n",
    "                             param_net_hps, give_hint, rs, dist_info);\n",
    "savedir = basedir + model_dir;\n",
    "fname = savedir + 'results.npz';\n",
    "try:\n",
    "    npzfile = np.load(fname);\n",
    "except:\n",
    "    print('Error! Issue reading %s' % model_dir);\n",
    "\n",
    "test_elbos = npzfile['test_elbos'];\n",
    "last_ind = find_last_ind(test_elbos);\n",
    "mean_test_elbos = np.mean(test_elbos, 1);\n",
    "ind = find_convergence(mean_test_elbos, last_ind+1, wsize, delta_thresh);\n",
    "print('last in before zeros', last_ind);\n",
    "print('convergence ind', ind);\n",
    "if (ind is None or (not npzfile['converged'])):\n",
    "    print('Hasnt converged: %s' % fname);\n",
    "    ind = mean_test_elbos.shape[0];\n",
    "else:\n",
    "    print('%s was fine' % model_dir);\n",
    "    ind = max(ind, min_checks);\n",
    "final_ind = ind;\n",
    "\n",
    "\n",
    "diagnostic_str = 'train' if (model == 'EFN1') else 'test';\n",
    "\n",
    "mean_elbos = np.mean(npzfile['%s_elbos' % diagnostic_str], 1)[:ind];\n",
    "std_elbos = np.std(npzfile['%s_elbos' % diagnostic_str], 1)[:ind];\n",
    "\n",
    "mean_KLs = np.mean(npzfile['%s_KLs' % diagnostic_str], 1)[:ind];\n",
    "std_KLs = np.std(npzfile['%s_KLs' % diagnostic_str], 1)[:ind];\n",
    "\n",
    "mean_R2s = np.mean(npzfile['%s_R2s' % diagnostic_str], 1)[:ind];\n",
    "std_R2s = np.std(npzfile['%s_R2s' % diagnostic_str], 1)[:ind];\n",
    "check_rate = npzfile['check_rate'];\n",
    "print(mean_elbos.shape, mean_R2s.shape);"
   ]
  },
  {
   "cell_type": "code",
   "execution_count": 2,
   "metadata": {
    "scrolled": false
   },
   "outputs": [
    {
     "name": "stderr",
     "output_type": "stream",
     "text": [
      "/Users/sbittner/Library/Python/3.6/lib/python/site-packages/matplotlib/font_manager.py:1331: UserWarning: findfont: Font family ['normal'] not found. Falling back to DejaVu Sans\n",
      "  (prop.get_family(), self.defaultFamily[fontext]))\n"
     ]
    },
    {
     "data": {
      "image/png": "[encoded data removed]",
      "text/plain": [
       "<Figure size 432x288 with 1 Axes>"
      ]
     },
     "metadata": {},
     "output_type": "display_data"
    },
    {
     "data": {
      "image/png": "[encoded data removed]",
      "text/plain": [
       "<Figure size 432x288 with 1 Axes>"
      ]
     },
     "metadata": {},
     "output_type": "display_data"
    }
   ],
   "source": [
    "fontsize = 18;\n",
    "red = [.8,0,0];\n",
    "blue = [0,0,.8];\n",
    "its = np.arange(0, check_rate*final_ind, check_rate);\n",
    "\n",
    "plt.figure();\n",
    "# KL\n",
    "plt.plot(its, mean_KLs, color=blue, lw=2);\n",
    "min_val = np.min(mean_KLs-std_KLs);\n",
    "if (model=='EFN'):\n",
    "    plt.fill_between(its, mean_KLs+std_KLs, mean_KLs-std_KLs,facecolor=blue, alpha=0.4,);\n",
    "    std_mag = np.max(std_KLs);\n",
    "    max_val = min_val + 3*std_mag;\n",
    "else:\n",
    "    max_val = np.max(mean_KLs);\n",
    "plt.ylim([0.0, 5.0])\n",
    "plt.xlabel('iterations', fontsize=fontsize);\n",
    "plt.ylabel('KL', fontsize=fontsize);\n",
    "ax = plt.gca();\n",
    "ax.spines['right'].set_visible(False)\n",
    "ax.spines['top'].set_visible(False)\n",
    "plt.tight_layout();\n",
    "plt.savefig('/Users/sbittner/Documents/efn/written/EFN_AISTATS2019/figs/fig2/2a.pdf', dpi=300, transparent=True, )\n",
    "plt.show();\n",
    "\n",
    "# r2\n",
    "plt.figure();\n",
    "plt.plot(its, mean_R2s,color=blue, lw=2);\n",
    "min_val = max(np.min(mean_R2s-std_R2s), 0);\n",
    "if (model=='EFN'):\n",
    "    plt.fill_between(its, mean_R2s+std_R2s, mean_R2s-std_R2s,facecolor=blue, alpha=0.4,);\n",
    "plt.ylim([.7, 1])\n",
    "plt.xlabel('iterations', fontsize=fontsize);\n",
    "plt.ylabel('r^2', fontsize=fontsize);\n",
    "ax = plt.gca();\n",
    "ax.spines['right'].set_visible(False)\n",
    "ax.spines['top'].set_visible(False)\n",
    "plt.tight_layout();\n",
    "plt.savefig('/Users/sbittner/Documents/efn/written/EFN_AISTATS2019/figs/fig2/2b.pdf', dpi=300, transparent=True, )\n",
    "\n",
    "plt.show();"
   ]
  },
  {
   "cell_type": "code",
   "execution_count": 3,
   "metadata": {},
   "outputs": [],
   "source": [
    "Z = npzfile['X'];\n",
    "eta = npzfile['eta'];\n",
    "params = npzfile['params'][()];\n",
    "K_eta = len(params);"
   ]
  },
  {
   "cell_type": "code",
   "execution_count": 4,
   "metadata": {},
   "outputs": [],
   "source": [
    "def MMD2u(K, m, n):\n",
    "    \"\"\"The MMD^2_u unbiased statistic.\n",
    "    \"\"\"\n",
    "    Kx = K[:m, :m]\n",
    "    Ky = K[m:, m:]\n",
    "    Kxy = K[:m, m:]\n",
    "    return 1.0 / (m * (m - 1.0)) * (Kx.sum() - Kx.diagonal().sum()) + \\\n",
    "        1.0 / (n * (n - 1.0)) * (Ky.sum() - Ky.diagonal().sum()) - \\\n",
    "        2.0 / (m * n) * Kxy.sum()\n",
    "\n",
    "\n",
    "def compute_null_distribution(K, m, n, iterations=10000, verbose=False,\n",
    "                              random_state=None, marker_interval=1000):\n",
    "    \"\"\"Compute the bootstrap null-distribution of MMD2u.\n",
    "    \"\"\"\n",
    "    if type(random_state) == type(np.random.RandomState()):\n",
    "        rng = random_state\n",
    "    else:\n",
    "        rng = np.random.RandomState(random_state)\n",
    "\n",
    "    mmd2u_null = np.zeros(iterations)\n",
    "    for i in range(iterations):\n",
    "        if verbose and (i % marker_interval) == 0:\n",
    "            print(i),\n",
    "            stdout.flush()\n",
    "        idx = rng.permutation(m+n)\n",
    "        K_i = K[idx, idx[:, None]]\n",
    "        mmd2u_null[i] = MMD2u(K_i, m, n)\n",
    "\n",
    "    if verbose:\n",
    "        print(\"\")\n",
    "\n",
    "    return mmd2u_null\n",
    "\n",
    "\n",
    "def kernel_two_sample_test(X, Y, kernel_function='rbf', iterations=10000,\n",
    "                           verbose=False, random_state=None, **kwargs):\n",
    "    \"\"\"Compute MMD^2_u, its null distribution and the p-value of the\n",
    "    kernel two-sample test.\n",
    "    Note that extra parameters captured by **kwargs will be passed to\n",
    "    pairwise_kernels() as kernel parameters. E.g. if\n",
    "    kernel_two_sample_test(..., kernel_function='rbf', gamma=0.1),\n",
    "    then this will result in getting the kernel through\n",
    "    kernel_function(metric='rbf', gamma=0.1).\n",
    "    \"\"\"\n",
    "    m = len(X)\n",
    "    n = len(Y)\n",
    "    XY = np.vstack([X, Y])\n",
    "    K = pairwise_kernels(XY, metric=kernel_function, **kwargs)\n",
    "    mmd2u = MMD2u(K, m, n)\n",
    "    if verbose:\n",
    "        print(\"MMD^2_u = %s\" % mmd2u)\n",
    "        print(\"Computing the null distribution.\")\n",
    "\n",
    "    mmd2u_null = compute_null_distribution(K, m, n, iterations,\n",
    "                                           verbose=verbose,\n",
    "                                           random_state=random_state)\n",
    "    p_value = max(1.0/iterations, (mmd2u_null > mmd2u).sum() /\n",
    "                  float(iterations))\n",
    "    if verbose:\n",
    "        print(\"p-value ~= %s \\t (resolution : %s)\" % (p_value, 1.0/iterations))\n",
    "\n",
    "    return mmd2u, mmd2u_null, p_value"
   ]
  },
  {
   "cell_type": "code",
   "execution_count": 5,
   "metadata": {},
   "outputs": [
    {
     "name": "stdout",
     "output_type": "stream",
     "text": [
      "(100, 3)\n"
     ]
    }
   ],
   "source": [
    "from scipy.stats import dirichlet\n",
    "\n",
    "alpha = np.array([1,2,3]);\n",
    "dist = dirichlet(alpha);\n",
    "x = dist.rvs(100);\n",
    "print(x.shape);\n"
   ]
  },
  {
   "cell_type": "code",
   "execution_count": 6,
   "metadata": {},
   "outputs": [],
   "source": [
    "from sklearn.metrics import pairwise_distances\n",
    "from sys import stdout\n",
    "from sklearn.metrics import pairwise_kernels\n",
    "\n",
    "n = 100;\n",
    "pvalfname = savedir + 'pvals_n=%d.npz' % n;\n",
    "\n",
    "if (os.path.isfile(pvalfname)):\n",
    "    pvalfile = np.load(pvalfname);\n",
    "    pvals = pvalfile['pvals'];\n",
    "else:\n",
    "    n_mmds = K_eta;\n",
    "    pvals = np.zeros((n_mmds,));\n",
    "    for ind in range(n_mmds):\n",
    "        X = Z[ind,:n,:,0];\n",
    "        alpha = params[ind]['alpha'];\n",
    "        dist = dirichlet(alpha);\n",
    "        Y = dist.rvs(n);\n",
    "        sigma2 = np.median(pairwise_distances(X, Y, metric='euclidean'))**2\n",
    "        mmd2u, mmd2u_null, p_value = kernel_two_sample_test(X, Y,\n",
    "                                                            kernel_function='rbf',\n",
    "                                                            gamma=1.0/sigma2,\n",
    "                                                            verbose=True)\n",
    "        pvals[ind] = p_value;\n",
    "        \n",
    "    np.savez(pvalfname, pvals=pvals);"
   ]
  },
  {
   "cell_type": "code",
   "execution_count": 14,
   "metadata": {},
   "outputs": [
    {
     "name": "stderr",
     "output_type": "stream",
     "text": [
      "/Users/sbittner/Library/Python/3.6/lib/python/site-packages/matplotlib/axes/_axes.py:6571: UserWarning: The 'normed' kwarg is deprecated, and has been replaced by the 'density' kwarg.\n",
      "  warnings.warn(\"The 'normed' kwarg is deprecated, and has been \"\n",
      "/Users/sbittner/Library/Python/3.6/lib/python/site-packages/matplotlib/font_manager.py:1331: UserWarning: findfont: Font family ['normal'] not found. Falling back to DejaVu Sans\n",
      "  (prop.get_family(), self.defaultFamily[fontext]))\n"
     ]
    },
    {
     "data": {
      "image/png": "[encoded data removed]",
      "text/plain": [
       "<Figure size 432x288 with 1 Axes>"
      ]
     },
     "metadata": {},
     "output_type": "display_data"
    }
   ],
   "source": [
    "plt.figure();\n",
    "plt.hist(pvals, 30, histtype='step', normed=True, color='k');\n",
    "plt.xlabel('MMD p values', fontsize=fontsize);\n",
    "plt.xlim([0, 1]);\n",
    "ax = plt.gca();\n",
    "ax.set_yticks([]);\n",
    "ax.spines['right'].set_visible(False)\n",
    "ax.spines['top'].set_visible(False)\n",
    "plt.tight_layout()\n",
    "plt.savefig('/Users/sbittner/Documents/efn/written/EFN_AISTATS2019/figs/fig2/2c.pdf', dpi=300, transparent=True, )\n",
    "plt.show();"
   ]
  },
  {
   "cell_type": "code",
   "execution_count": 8,
   "metadata": {},
   "outputs": [
    {
     "name": "stderr",
     "output_type": "stream",
     "text": [
      "/Users/sbittner/Library/Python/3.6/lib/python/site-packages/matplotlib/font_manager.py:1331: UserWarning: findfont: Font family ['normal'] not found. Falling back to DejaVu Sans\n",
      "  (prop.get_family(), self.defaultFamily[fontext]))\n"
     ]
    },
    {
     "data": {
      "image/png": "[encoded data removed]",
      "text/plain": [
       "<Figure size 432x288 with 1 Axes>"
      ]
     },
     "metadata": {},
     "output_type": "display_data"
    },
    {
     "data": {
      "image/png": "[encoded data removed]",
      "text/plain": [
       "<Figure size 432x288 with 1 Axes>"
      ]
     },
     "metadata": {},
     "output_type": "display_data"
    },
    {
     "data": {
      "image/png": "[encoded data removed]",
      "text/plain": [
       "<Figure size 432x288 with 1 Axes>"
      ]
     },
     "metadata": {},
     "output_type": "display_data"
    }
   ],
   "source": [
    "test_KLs = npzfile['test_KLs'];\n",
    "train_KLs = npzfile['train_KLs'];\n",
    "\n",
    "plt.figure();\n",
    "plt.hist(pvals)\n",
    "plt.show();\n",
    "\n",
    "plt.figure();\n",
    "plt.scatter(test_KLs[final_ind], pvals)\n",
    "plt.show();\n",
    "\n",
    "plt.figure();\n",
    "plt.scatter(train_KLs[final_ind], pvals)\n",
    "plt.show();"
   ]
  },
  {
   "cell_type": "code",
   "execution_count": null,
   "metadata": {
    "collapsed": true
   },
   "outputs": [],
   "source": []
  }
 ],
 "metadata": {
  "kernelspec": {
   "display_name": "Python 3",
   "language": "python",
   "name": "python3"
  },
  "language_info": {
   "codemirror_mode": {
    "name": "ipython",
    "version": 3
   },
   "file_extension": ".py",
   "mimetype": "text/x-python",
   "name": "python",
   "nbconvert_exporter": "python",
   "pygments_lexer": "ipython3",
   "version": "3.6.1"
  }
 },
 "nbformat": 4,
 "nbformat_minor": 2
}
