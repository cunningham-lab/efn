{
 "cells": [
  {
   "cell_type": "code",
   "execution_count": 19,
   "metadata": {},
   "outputs": [
    {
     "name": "stdout",
     "output_type": "stream",
     "text": [
      "The autoreload extension is already loaded. To reload it, use:\n",
      "  %reload_ext autoreload\n",
      "['PlanarFlowLayer', 'StructuredSpinnerTanhLayer', 'AffineFlowLayer']\n"
     ]
    }
   ],
   "source": [
    "%load_ext autoreload\n",
    "%autoreload 2\n",
    "%matplotlib inline\n",
    "import matplotlib.pyplot as plt\n",
    "import numpy as np\n",
    "import tensorflow as tf\n",
    "from families import family_from_str\n",
    "from efn_util import setup_IO\n",
    "from plot_util import get_latest_diagnostics, find_last_ind\n",
    "from efn_util import find_convergence\n",
    "import seaborn as sns\n",
    "\n",
    "basedir = '/Users/sbittner/Documents/efn/';\n",
    "colors = [\"dusty purple\", \"pale red\", \"windows blue\", \"medium green\", \"amber\", \"greyish\", \"faded green\", \"denim blue\"];\n",
    "palette = sns.xkcd_palette(colors)\n",
    "\n",
    "exp_fam = 'dir_dir';\n",
    "give_hint = (exp_fam == 'normal' or exp_fam == 'inv_wishart');\n",
    "D = 4;\n",
    "K = 100;\n",
    "M = 1000;\n",
    "param_net_hps = {'L':4};\n",
    "stochastic_eta = True;\n",
    "\n",
    "\n",
    "fam_class = family_from_str(exp_fam);\n",
    "family = fam_class(D);\n",
    "\n",
    "if (exp_fam == 'dirichlet' or exp_fam == 'dir_mult' or exp_fam == 'dir_dir'):\n",
    "    TIF_flow_types = ['PlanarFlowLayer', \\\n",
    "                    'StructuredSpinnerTanhLayer', 'AffineFlowLayer'];\n",
    "    nlayers = [D, D, 1];\n",
    "elif (exp_fam == 'normal'):\n",
    "    TIF_flow_types = ['PlanarFlowLayer', 'RadialFlowLayer', \\\n",
    "                    'StructuredSpinnerTanhLayer', 'AffineFlowLayer'];\n",
    "    nlayers = [D, D, D, 1];\n",
    "elif (exp_fam == 'inv_wishart'):\n",
    "    TIF_flow_types = ['PlanarFlowLayer', 'RadialFlowLayer', \\\n",
    "                     'AffineFlowLayer'];\n",
    "    nlayers = [D, D, 1];\n",
    "print(TIF_flow_types);\n",
    "num_archs = len(TIF_flow_types);\n",
    "num_rs = 5;\n",
    "\n",
    "wsize = 50;\n",
    "delta_thresh = 1e-10;"
   ]
  },
  {
   "cell_type": "code",
   "execution_count": 20,
   "metadata": {},
   "outputs": [
    {
     "name": "stdout",
     "output_type": "stream",
     "text": [
      "issue reading /Users/sbittner/Documents/efn/results/June/tb/EFN_hierarchical_dirichlet_stochasticEta_D=4_K=100_M=1000_flow=4S_L=4_rs=0/results.npz\n",
      "issue reading /Users/sbittner/Documents/efn/results/June/tb/EFN_hierarchical_dirichlet_stochasticEta_D=4_K=100_M=1000_flow=4S_L=4_rs=1/results.npz\n",
      "issue reading /Users/sbittner/Documents/efn/results/June/tb/EFN_hierarchical_dirichlet_stochasticEta_D=4_K=100_M=1000_flow=4S_L=4_rs=2/results.npz\n",
      "issue reading /Users/sbittner/Documents/efn/results/June/tb/EFN_hierarchical_dirichlet_stochasticEta_D=4_K=100_M=1000_flow=4S_L=4_rs=3/results.npz\n",
      "issue reading /Users/sbittner/Documents/efn/results/June/tb/EFN_hierarchical_dirichlet_stochasticEta_D=4_K=100_M=1000_flow=4S_L=4_rs=4/results.npz\n"
     ]
    },
    {
     "name": "stderr",
     "output_type": "stream",
     "text": [
      "/Users/sbittner/Library/Python/3.6/lib/python/site-packages/numpy/core/fromnumeric.py:2957: RuntimeWarning: Mean of empty slice.\n",
      "  out=out, **kwargs)\n",
      "/Users/sbittner/Library/Python/3.6/lib/python/site-packages/numpy/core/_methods.py:80: RuntimeWarning: invalid value encountered in double_scalars\n",
      "  ret = ret.dtype.type(ret / rcount)\n"
     ]
    },
    {
     "data": {
      "text/plain": [
       "<matplotlib.figure.Figure at 0x123792588>"
      ]
     },
     "metadata": {},
     "output_type": "display_data"
    }
   ],
   "source": [
    "diagnostic_list = [];\n",
    "for i in range(num_archs):\n",
    "    color = palette[i];\n",
    "    elbos_by_rs = np.zeros((num_rs, K));\n",
    "    R2s_by_rs = np.zeros((num_rs, K));\n",
    "    KLs_by_rs = np.zeros((num_rs, K));\n",
    "    for j in range(num_rs):\n",
    "        random_seed = j;\n",
    "        TIF_flow_type = TIF_flow_types[i];\n",
    "        flow_dict = {'latent_dynamics':None, \\\n",
    "                     'TIF_flow_type':TIF_flow_type, \\\n",
    "                     'repeats':nlayers[i]};\n",
    "        savedir = basedir + setup_IO(family, 'EFN', 'eta', K, M, flow_dict, \\\n",
    "                                      param_net_hps, stochastic_eta, give_hint, random_seed);\n",
    "        fname = savedir + 'results.npz';\n",
    "        \n",
    "        try:\n",
    "            npzfile = np.load(fname);\n",
    "        except:\n",
    "            print('issue reading %s' % fname);\n",
    "            continue\n",
    "        \n",
    "        test_elbos = npzfile['test_elbos'];\n",
    "        last_ind = find_last_ind(test_elbos);\n",
    "        mean_test_elbos = np.mean(test_elbos, 1);\n",
    "        ind = find_convergence(mean_test_elbos, last_ind+1, wsize, delta_thresh);\n",
    "        if (ind is None):\n",
    "            print('Hasnt converged: %s' % fname);\n",
    "            continue;\n",
    "        elbos, R2s, KLs, status = get_latest_diagnostics(fname, is_train=False);\n",
    "        \n",
    "        elbos_by_rs[j,:] = elbos;\n",
    "        R2s_by_rs[j,:] = R2s;\n",
    "        KLs_by_rs[j,:] = KLs;\n",
    "    diagnostic_list.append([elbos_by_rs, R2s_by_rs, KLs_by_rs]);\n",
    "    \n",
    "random_seeds = [0,1,2,3,4];\n",
    "\n"
   ]
  },
  {
   "cell_type": "code",
   "execution_count": 21,
   "metadata": {},
   "outputs": [
    {
     "data": {
      "image/png": "[encoded data removed]",
      "text/plain": [
       "<matplotlib.figure.Figure at 0x124399d30>"
      ]
     },
     "metadata": {},
     "output_type": "display_data"
    }
   ],
   "source": [
    "from plot_util import EFN_model_df\n",
    "fontsize = 14;\n",
    "df = EFN_model_df('models',TIF_flow_types,'random_seeds', random_seeds, diagnostic_list);\n",
    "\n",
    "plt.figure(figsize=(5,8));\n",
    "#plt.subplot(3,1,1);\n",
    "#ax = sns.boxplot(x='models', y='KL', hue='models', \\\n",
    "#                  data=df, palette=palette);\n",
    "#ax.set_xticklabels([]);\n",
    "#ax.set_xlabel('models', fontsize=fontsize);\n",
    "#ax.set_ylabel('KL', fontsize=fontsize);\n",
    "\n",
    "\n",
    "plt.subplot(2,1,1);\n",
    "ax = sns.boxplot(x='models', y='elbo', hue='models', \\\n",
    "                  data=df, palette=palette);\n",
    "ax.set_xticklabels([]);\n",
    "ax.set_xlabel('models', fontsize=fontsize);\n",
    "ax.set_ylabel('-ELBO', fontsize=fontsize);\n",
    "ax.legend_.remove();\n",
    "\n",
    "plt.subplot(2,1,2);\n",
    "ax = sns.boxplot(x='models', y='R2', hue='models', \\\n",
    "                  data=df, palette=palette);\n",
    "ax.set_xticklabels([]);\n",
    "ax.set_xlabel('models', fontsize=fontsize);\n",
    "ax.set_ylabel('r^2', fontsize=fontsize);\n",
    "ax.legend_.remove();\n",
    "\n",
    "plt.show();\n"
   ]
  },
  {
   "cell_type": "code",
   "execution_count": 22,
   "metadata": {},
   "outputs": [
    {
     "name": "stdout",
     "output_type": "stream",
     "text": [
      "flow   <KL>     <ELBO>      <R2>\n",
      "P      nan     29.10       0.84\n",
      "S      nan     nan       nan\n",
      "A      nan     29.07       0.84\n"
     ]
    }
   ],
   "source": [
    "print('flow   <KL>     <ELBO>      <R2>');\n",
    "for i in range(num_archs):\n",
    "    flow_type = TIF_flow_types[i];\n",
    "    inds = df['models']==flow_type;\n",
    "    KLs = df['KL'][inds];\n",
    "    elbos = df['elbo'][inds];\n",
    "    R2s = dsf['R2'][inds];\n",
    "    print('%s      %.2f     %.2f       %.2f' % (flow_type[0], np.mean(KLs), np.mean(elbos), np.mean(R2s)));"
   ]
  },
  {
   "cell_type": "code",
   "execution_count": 23,
   "metadata": {},
   "outputs": [
    {
     "data": {
      "text/plain": [
       "\"\\nplt.figure();\\nfor i in range(num_archs):\\n    color = palette[i];\\n    for j in range(num_rs):\\n        random_seed = j;\\n        TIF_flow_type = TIF_flow_types[i];\\n        flow_dict = {'latent_dynamics':None,                      'TIF_flow_type':TIF_flow_type,                      'repeats':nlayers[i]};\\n        modeldir = setup_IO(family, 'EFN', 'eta', K, M, flow_dict,                                       param_net_hps, stochastic_eta, give_hint, random_seed);\\n        print(family.name);\\n        savedir = basedir + modeldir;\\n        fname = savedir + 'results.npz';\\n        try:\\n            npzfile = np.load(fname);\\n        except:\\n            print('issue reading %s' % modeldir);\\n            continue\\n        check_rate = npzfile['check_rate'];\\n        test_elbos = npzfile['test_elbos'];\\n        test_R2s = npzfile['test_R2s'];\\n        \\n        mean_test_R2s = np.mean(test_R2s, 1);   \\n        mean_test_elbos = np.mean(test_elbos, 1);\\n        last_ind = find_last_ind(test_elbos);\\n        \\n        ind = find_convergence(mean_test_elbos, last_ind+1, wsize, delta_thresh);\\n    \\n        if (ind is not None):\\n            iterations = np.arange(0, check_rate*(ind+1), check_rate);\\n            plt.plot(iterations, mean_test_elbos[:(ind+1)], color=color);\\n        else:\\n            ind = mean_test_elbos.shape[0];\\n            print('Hasnt converged: %s' % fname);\\n            iterations = np.arange(0, check_rate*(ind), check_rate);\\n            plt.plot(iterations, mean_test_elbos, color=color);\\n        #plt.show();\\nplt.show();\\n\""
      ]
     },
     "execution_count": 23,
     "metadata": {},
     "output_type": "execute_result"
    }
   ],
   "source": [
    "\"\"\"\n",
    "plt.figure();\n",
    "for i in range(num_archs):\n",
    "    color = palette[i];\n",
    "    for j in range(num_rs):\n",
    "        random_seed = j;\n",
    "        TIF_flow_type = TIF_flow_types[i];\n",
    "        flow_dict = {'latent_dynamics':None, \\\n",
    "                     'TIF_flow_type':TIF_flow_type, \\\n",
    "                     'repeats':nlayers[i]};\n",
    "        modeldir = setup_IO(family, 'EFN', 'eta', K, M, flow_dict, \\\n",
    "                                      param_net_hps, stochastic_eta, give_hint, random_seed);\n",
    "        print(family.name);\n",
    "        savedir = basedir + modeldir;\n",
    "        fname = savedir + 'results.npz';\n",
    "        try:\n",
    "            npzfile = np.load(fname);\n",
    "        except:\n",
    "            print('issue reading %s' % modeldir);\n",
    "            continue\n",
    "        check_rate = npzfile['check_rate'];\n",
    "        test_elbos = npzfile['test_elbos'];\n",
    "        test_R2s = npzfile['test_R2s'];\n",
    "        \n",
    "        mean_test_R2s = np.mean(test_R2s, 1);   \n",
    "        mean_test_elbos = np.mean(test_elbos, 1);\n",
    "        last_ind = find_last_ind(test_elbos);\n",
    "        \n",
    "        ind = find_convergence(mean_test_elbos, last_ind+1, wsize, delta_thresh);\n",
    "    \n",
    "        if (ind is not None):\n",
    "            iterations = np.arange(0, check_rate*(ind+1), check_rate);\n",
    "            plt.plot(iterations, mean_test_elbos[:(ind+1)], color=color);\n",
    "        else:\n",
    "            ind = mean_test_elbos.shape[0];\n",
    "            print('Hasnt converged: %s' % fname);\n",
    "            iterations = np.arange(0, check_rate*(ind), check_rate);\n",
    "            plt.plot(iterations, mean_test_elbos, color=color);\n",
    "        #plt.show();\n",
    "plt.show();\n",
    "\"\"\""
   ]
  },
  {
   "cell_type": "code",
   "execution_count": null,
   "metadata": {
    "collapsed": true
   },
   "outputs": [],
   "source": []
  },
  {
   "cell_type": "code",
   "execution_count": null,
   "metadata": {
    "collapsed": true
   },
   "outputs": [],
   "source": []
  }
 ],
 "metadata": {
  "kernelspec": {
   "display_name": "Python 3",
   "language": "python",
   "name": "python3"
  },
  "language_info": {
   "codemirror_mode": {
    "name": "ipython",
    "version": 3
   },
   "file_extension": ".py",
   "mimetype": "text/x-python",
   "name": "python",
   "nbconvert_exporter": "python",
   "pygments_lexer": "ipython3",
   "version": "3.6.1"
  }
 },
 "nbformat": 4,
 "nbformat_minor": 2
}
