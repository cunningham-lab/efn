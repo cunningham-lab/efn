{
 "cells": [
  {
   "cell_type": "code",
   "execution_count": 3,
   "metadata": {},
   "outputs": [
    {
     "name": "stdout",
     "output_type": "stream",
     "text": [
      "[7.10617911 4.50576329 9.92194085 4.48326078 5.44257797]\n",
      "[[ 7.  9.  7.  7.  5.  7. 10.  4.  9.  8.]\n",
      " [ 5.  5.  5.  3.  5.  3.  5.  6.  3.  3.]\n",
      " [ 8.  9.  7.  7. 11. 14. 10.  7.  9. 10.]\n",
      " [ 6.  5.  3.  5.  3.  4.  5.  4.  3.  3.]\n",
      " [ 8.  1.  3.  3.  4.  4.  5.  7.  2.  3.]]\n"
     ]
    }
   ],
   "source": [
    "%matplotlib inline\n",
    "import numpy as np\n",
    "import matplotlib.pyplot as plt\n",
    "\n",
    "def drawPoissonRates(D):\n",
    "    return np.random.uniform(0.001, 10, (D,));\n",
    "\n",
    "def drawPoissonCounts(z, N):\n",
    "    D = z.shape[0];\n",
    "    x = np.zeros((D,N));\n",
    "    for i in range(D):\n",
    "        x[i,:] = np.random.poisson(z[i], (N,));\n",
    "    return x;\n",
    "\n",
    "z = drawPoissonRates(5);\n",
    "print(z);\n",
    "x = drawPoissonCounts(z, 10);\n",
    "print(x)"
   ]
  },
  {
   "cell_type": "code",
   "execution_count": null,
   "metadata": {
    "collapsed": true
   },
   "outputs": [],
   "source": []
  }
 ],
 "metadata": {
  "kernelspec": {
   "display_name": "Python 3",
   "language": "python",
   "name": "python3"
  },
  "language_info": {
   "codemirror_mode": {
    "name": "ipython",
    "version": 3
   },
   "file_extension": ".py",
   "mimetype": "text/x-python",
   "name": "python",
   "nbconvert_exporter": "python",
   "pygments_lexer": "ipython3",
   "version": "3.6.1"
  }
 },
 "nbformat": 4,
 "nbformat_minor": 2
}
