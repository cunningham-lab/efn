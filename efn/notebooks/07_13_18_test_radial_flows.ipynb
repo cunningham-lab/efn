{
 "cells": [
  {
   "cell_type": "code",
   "execution_count": 1,
   "metadata": {},
   "outputs": [
    {
     "name": "stdout",
     "output_type": "stream",
     "text": [
      "not param network\n",
      "z (1, 100, 2, 1)\n",
      "pre z0 (1, 2, 1)\n",
      "z0 (1, 1, 2, 1)\n",
      "d (1, 100, 2, 1)\n",
      "r (1, 100, 1, 1)\n",
      "hprime (1, 100, 1, 1)\n",
      "ldj\n",
      "(1, 100, 1, 1)\n",
      "(1, 100)\n"
     ]
    }
   ],
   "source": [
    "%matplotlib inline\n",
    "import matplotlib.pyplot as plt\n",
    "import numpy as np\n",
    "import tensorflow as tf\n",
    "from flows import PlanarFlowLayer, RadialFlowLayer\n",
    "from efn_util import declare_theta\n",
    "\n",
    "K = 1;\n",
    "M = 100;\n",
    "D = 2;\n",
    "T = 1;\n",
    "\n",
    "z0 = tf.placeholder(dtype=tf.float64, shape=(K,M,D,T));\n",
    "_z0 = np.random.normal(0,1,[K,M,D,T]);\n",
    "\n",
    "layers = [RadialFlowLayer('RadialFlow', D)];\n",
    "num_layers = len(layers);\n",
    "theta = declare_theta(layers);\n",
    "\n",
    "for i in range(num_layers):\n",
    "    layer = layers[i];\n",
    "    layer.connect_parameter_network(theta[i]);\n",
    "\n",
    "z = z0;\n",
    "sum_log_det_jacobians = 0.0;\n",
    "for i in range(num_layers):\n",
    "    layer = layers[i];\n",
    "    z, sum_log_det_jacobians = layer.forward_and_jacobian(z, sum_log_det_jacobians);\n"
   ]
  },
  {
   "cell_type": "code",
   "execution_count": 2,
   "metadata": {},
   "outputs": [
    {
     "data": {
      "image/png": "[encoded data removed]",
      "text/plain": [
       "<matplotlib.figure.Figure at 0x10872df60>"
      ]
     },
     "metadata": {},
     "output_type": "display_data"
    }
   ],
   "source": [
    "sess = tf.Session();\n",
    "sess.run(tf.global_variables_initializer());\n",
    "_z, sldj = sess.run([z, sum_log_det_jacobians], {z0:_z0});\n",
    "\n",
    "maxval = 3;\n",
    "plt.figure();\n",
    "plt.subplot(1,2,1);\n",
    "plt.scatter(_z0[0,:,0,0], _z0[0,:,1,0]);\n",
    "plt.xlim([-maxval,maxval]);\n",
    "plt.ylim([-maxval,maxval]);\n",
    "plt.subplot(1,2,2);\n",
    "plt.scatter(_z[0,:,0,0], _z[0,:,1,0]);\n",
    "plt.xlim([-maxval,maxval]);\n",
    "plt.ylim([-maxval,maxval]);\n",
    "plt.show();"
   ]
  },
  {
   "cell_type": "code",
   "execution_count": 3,
   "metadata": {},
   "outputs": [
    {
     "name": "stdout",
     "output_type": "stream",
     "text": [
      "not param network\n",
      "[[[1.]\n",
      "  [1.]]] [[[1.]]] [[[-2.02513465]]]\n"
     ]
    }
   ],
   "source": [
    "[z0_tf, alpha_tf, beta_tf] = layer.get_params();\n",
    "z0_param, alpha, beta = sess.run([z0_tf, alpha_tf, beta_tf]);\n",
    "print(z0_param, alpha, beta);"
   ]
  },
  {
   "cell_type": "code",
   "execution_count": 4,
   "metadata": {},
   "outputs": [
    {
     "name": "stdout",
     "output_type": "stream",
     "text": [
      "(1, 100, 2, 1) (1, 100, 2, 1)\n",
      "[[0.45340595]\n",
      " [0.07504496]] -1.0324041041580614\n"
     ]
    }
   ],
   "source": [
    "print(_z0.shape, _z.shape);\n",
    "print(_z[0,0,:,:], sldj[0,0]);"
   ]
  },
  {
   "cell_type": "code",
   "execution_count": 6,
   "metadata": {},
   "outputs": [
    {
     "name": "stdout",
     "output_type": "stream",
     "text": [
      "[[[0.45340595]\n",
      "  [0.07504496]]] [[[-1.0324041]]]\n"
     ]
    }
   ],
   "source": [
    "_z01 = _z0[0,0,:,:];\n",
    "d = _z01 - z0_param.T;\n",
    "r = np.linalg.norm(d);\n",
    "h = 1.0 / (alpha + r);\n",
    "h_prime = -1.0 / np.square(alpha + r);\n",
    "\n",
    "z_out = _z01 + beta*h*d;\n",
    "\n",
    "abs_det_jac = (D-1)*np.log(1 + beta*h) + np.log(1 + beta*h + beta*h_prime*r);\n",
    "print(z_out, abs_det_jac);"
   ]
  },
  {
   "cell_type": "code",
   "execution_count": null,
   "metadata": {
    "collapsed": true
   },
   "outputs": [],
   "source": []
  }
 ],
 "metadata": {
  "kernelspec": {
   "display_name": "Python 3",
   "language": "python",
   "name": "python3"
  },
  "language_info": {
   "codemirror_mode": {
    "name": "ipython",
    "version": 3
   },
   "file_extension": ".py",
   "mimetype": "text/x-python",
   "name": "python",
   "nbconvert_exporter": "python",
   "pygments_lexer": "ipython3",
   "version": "3.6.1"
  }
 },
 "nbformat": 4,
 "nbformat_minor": 2
}
