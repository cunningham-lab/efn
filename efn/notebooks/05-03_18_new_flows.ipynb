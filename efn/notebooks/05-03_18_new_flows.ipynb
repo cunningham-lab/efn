{
 "cells": [
  {
   "cell_type": "code",
   "execution_count": null,
   "metadata": {
    "collapsed": true
   },
   "outputs": [],
   "source": [
    "import theano\n",
    "import theano.tensor as T\n",
    "from lasagne.layers import InputLayer\n",
    "import sys\n",
    "sys.path.append('utils/');\n",
    "from normalizing_flow_utils import PlanarFlow\n",
    "from layers_utils import ExpLayer, SimplexBijectionLayer\n",
    "from numpy.random import RandomState\n",
    "import numpy as np\n",
    "\n",
    "print('loaded all the shit!');\n",
    "\n",
    "\n",
    "np.random.seed(222)\n",
    "lasagne.random.set_rng(RandomState(222))\n",
    "z0_th = T.matrix(\"z\") #input\n",
    "\n",
    "l_hid = InputLayer(shape=(None, D), input_var=z0_th)\n",
    "\n",
    "out0 = lasagne.layers.get_output(l_hid);\n",
    "l_hid = PlanarFlow(l_hid, w=lasagne.init.Constant(w1.T), u=lasagne.init.Constant(u1.T), b=lasagne.init.Constant(b1));\n",
    "logdet = l_hid.det(out0)\n",
    "us_fn = theano.function(inputs=[], outputs=[l_hid.u0, l_hid.u]);\n",
    "print(us_fn());\n",
    "\n",
    "out1 = lasagne.layers.get_output(l_hid)\n",
    "l_hid = PlanarFlow(l_hid, w=lasagne.init.Constant(w2.T), u=lasagne.init.Constant(u2.T), b=lasagne.init.Constant(b2));\n",
    "logdet += l_hid.det(out1)\n",
    "        \n",
    "out2 = lasagne.layers.get_output(l_hid)\n",
    "l_hid = SimplexBijectionLayer(l_hid)\n",
    "out_simplex = lasagne.layers.get_output(l_hid)\n",
    "logdet += l_hid.det(out2)\n",
    "\n",
    "y_fn = theano.function(inputs=[z0_th], outputs=out_simplex);\n",
    "sum_log_det_fn = theano.function(inputs=[z0_th], outputs=logdet);"
   ]
  }
 ],
 "metadata": {
  "kernelspec": {
   "display_name": "Python 3",
   "language": "python",
   "name": "python3"
  },
  "language_info": {
   "codemirror_mode": {
    "name": "ipython",
    "version": 3
   },
   "file_extension": ".py",
   "mimetype": "text/x-python",
   "name": "python",
   "nbconvert_exporter": "python",
   "pygments_lexer": "ipython3",
   "version": "3.6.1"
  }
 },
 "nbformat": 4,
 "nbformat_minor": 2
}
