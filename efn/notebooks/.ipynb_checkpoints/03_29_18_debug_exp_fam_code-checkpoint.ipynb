{
 "cells": [
  {
   "cell_type": "code",
   "execution_count": 36,
   "metadata": {},
   "outputs": [
    {
     "data": {
      "image/png": "[encoded data removed]",
      "text/plain": [
       "<matplotlib.figure.Figure at 0x114583278>"
      ]
     },
     "metadata": {},
     "output_type": "display_data"
    },
    {
     "name": "stdout",
     "output_type": "stream",
     "text": [
      "[[ 0.07369246  0.16914699  0.75716055]\n",
      " [ 0.12436749  0.58613559  0.28949692]]\n",
      "[ 0.69298347  0.69378816]\n"
     ]
    }
   ],
   "source": [
    "%matplotlib inline\n",
    "import numpy as np\n",
    "import matplotlib.pyplot as plt\n",
    "from dirichlet import simplex\n",
    "import scipy\n",
    "\n",
    "batch_size = 2;\n",
    "alpha_eps = 0.001;\n",
    "alpha = np.array([1.0, 1.0, 1.0]) + alpha_eps;\n",
    "X = np.random.dirichlet(alpha, (batch_size,));\n",
    "dist = scipy.stats.dirichlet(alpha);\n",
    "log_P = dist.logpdf(X.T);\n",
    "plt.figure();\n",
    "simplex.scatter(X, connect=False, c=log_P);\n",
    "plt.colorbar();\n",
    "plt.show();\n",
    "print(X);\n",
    "print(log_P);\n"
   ]
  },
  {
   "cell_type": "code",
   "execution_count": 24,
   "metadata": {},
   "outputs": [
    {
     "name": "stdout",
     "output_type": "stream",
     "text": [
      "(100, 3)\n"
     ]
    }
   ],
   "source": [
    "print(X.shape);"
   ]
  },
  {
   "cell_type": "code",
   "execution_count": 25,
   "metadata": {},
   "outputs": [
    {
     "data": {
      "image/png": "[encoded data removed]",
      "text/plain": [
       "<matplotlib.figure.Figure at 0x1147a2c88>"
      ]
     },
     "metadata": {},
     "output_type": "display_data"
    }
   ],
   "source": [
    "Tx = np.log(X);\n",
    "Txvec = np.concatenate((Tx, np.log(np.expand_dims(1.0/np.prod(X, 1),1))), axis=1);\n",
    "eta = np.expand_dims(alpha, 1);\n",
    "etavec = np.concatenate((eta, [[1]]));\n",
    "\n",
    "Txeta = np.dot(Txvec, etavec);\n",
    "sizes = 40*np.ones((batch_size,1));\n",
    "plt.figure();\n",
    "plt.scatter(log_P, Txeta, sizes, log_P);\n",
    "plt.show();"
   ]
  },
  {
   "cell_type": "code",
   "execution_count": 60,
   "metadata": {},
   "outputs": [
    {
     "name": "stdout",
     "output_type": "stream",
     "text": [
      "4.71133459948 2.45098341362\n"
     ]
    }
   ],
   "source": [
    "M = 100000;\n",
    "alpha1 = np.array([1,2,1]);\n",
    "dist1 = scipy.stats.dirichlet(alpha1);\n",
    "X1 = np.random.dirichlet(alpha1, (batch_size,));\n",
    "\n",
    "alpha2 = np.array([1,1.8,1.1]);\n",
    "dist2 = scipy.stats.dirichlet(alpha2);\n",
    "X2 = np.random.dirichlet(alpha2, (batch_size,));\n",
    "\n",
    "logp11 = dist1.logpdf(X1.T);\n",
    "logp12 = dist1.logpdf(X2.T);\n",
    "logp21 = dist2.logpdf(X1.T);\n",
    "logp22 = dist2.logpdf(X2.T);\n",
    "\n",
    "KL12 = np.mean(logp11 - logp21);\n",
    "KL21 = np.mean(logp22 - logp12);\n",
    "print(KL12, KL21);\n"
   ]
  },
  {
   "cell_type": "code",
   "execution_count": null,
   "metadata": {
    "collapsed": true
   },
   "outputs": [],
   "source": []
  },
  {
   "cell_type": "code",
   "execution_count": null,
   "metadata": {
    "collapsed": true
   },
   "outputs": [],
   "source": []
  }
 ],
 "metadata": {
  "kernelspec": {
   "display_name": "Python 3",
   "language": "python",
   "name": "python3"
  },
  "language_info": {
   "codemirror_mode": {
    "name": "ipython",
    "version": 3
   },
   "file_extension": ".py",
   "mimetype": "text/x-python",
   "name": "python",
   "nbconvert_exporter": "python",
   "pygments_lexer": "ipython3",
   "version": "3.6.1"
  }
 },
 "nbformat": 4,
 "nbformat_minor": 2
}
