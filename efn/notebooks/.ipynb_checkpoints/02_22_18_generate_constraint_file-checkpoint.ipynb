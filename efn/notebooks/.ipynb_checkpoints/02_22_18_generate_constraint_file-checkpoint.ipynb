{
 "cells": [
  {
   "cell_type": "code",
   "execution_count": 1,
   "metadata": {},
   "outputs": [
    {
     "name": "stdout",
     "output_type": "stream",
     "text": [
      "2d identity entropy 2.83787706641\n",
      "2d scaled identity true entropy 3.53102424697\n",
      "calculation 3.53102424697\n",
      "2d correlated true entropy 2.70065864356\n",
      "scaled identity 3 true entropy 5.29653637045\n",
      "true entropy gaussian 4 2.67575413282\n",
      "true entropy gaussian 10 -8.31061466795\n"
     ]
    }
   ],
   "source": [
    "%matplotlib inline\n",
    "import numpy as np\n",
    "from utils import rvs\n",
    "from scipy.stats import multivariate_normal\n",
    "import matplotlib.pyplot as plt\n",
    "\n",
    "np.random.seed(0);\n",
    "condir = '/Users/sbittner/Documents/dynamic_mefn/src/constraints/'\n",
    "\n",
    "# ****************************************************\n",
    "contype = 'GP';\n",
    "kernel = 'se';\n",
    "l = np.array([0.5, 0.15]);\n",
    "Sigma_N = np.array([[1.0, 0.5], [0.5, 1.0]]);\n",
    "T = 20;\n",
    "Ts = 0.02;\n",
    "\n",
    "fname = condir + 'toy_GP.npz';\n",
    "np.savez(fname, contype=contype, kernel=kernel, l=l, Sigma_N=Sigma_N, T=T, Ts=Ts);\n",
    "\n",
    "\n",
    "# ****************************************************\n",
    "contype = 'AR';\n",
    "AR_coeffs = np.array([[.8], [.5]]);\n",
    "Sigma_N = np.array([[1.0, 0.5], [0.5, 1.0]]);\n",
    "T = 20;\n",
    "Ts = 0.02;\n",
    "\n",
    "fname = condir + 'toy_AR.npz';\n",
    "np.savez(fname, contype=contype, AR_coeffs=AR_coeffs, Sigma_N=Sigma_N, T=T, Ts=Ts);\n",
    "\n",
    "# ****************************************************\n",
    "contype = 'static';\n",
    "Sigma_N = np.array([[1.0, 0.0], [0.0, 1.0]]);\n",
    "T = 500;\n",
    "\n",
    "dist = multivariate_normal(np.zeros((2,)), Sigma_N);\n",
    "print('2d identity entropy', dist.entropy());\n",
    "H1 = dist.entropy();\n",
    "\n",
    "fname = condir + 'identity.npz';\n",
    "np.savez(fname, contype=contype, Sigma_N=Sigma_N, T=T);\n",
    "\n",
    "# ****************************************************\n",
    "contype = 'static';\n",
    "Sigma_N = 2*np.array([[1.0, 0.0], [0.0, 1.0]]);\n",
    "T = 500;\n",
    "\n",
    "H2 = H1 + np.log(np.sqrt(2)**2);\n",
    "dist = multivariate_normal(np.zeros((2,)), Sigma_N);\n",
    "print('2d scaled identity true entropy', dist.entropy());\n",
    "print('calculation', H2);\n",
    "\n",
    "fname = condir + 'scaled_identity.npz';\n",
    "np.savez(fname, contype=contype, Sigma_N=Sigma_N, T=T);\n",
    "\n",
    "\n",
    "# ****************************************************\n",
    "\n",
    "contype = 'static';\n",
    "Sigma_N = 2*np.array([[1.0, 0.5], [0.5, 1.0]]);\n",
    "T = 500;\n",
    "\n",
    "dist = multivariate_normal(np.zeros((2,)), Sigma_N);\n",
    "print('2d correlated true entropy', dist.entropy());\n",
    "\n",
    "fname = condir + 'scaled_correlation.npz';\n",
    "np.savez(fname, contype=contype, Sigma_N=Sigma_N, T=T);\n",
    "\n",
    "\n",
    "# ****************************************************\n",
    "\n",
    "contype = 'static';\n",
    "Sigma_N = 2*np.eye(3);\n",
    "T = 500;\n",
    "\n",
    "dist = multivariate_normal(np.zeros((3,)), Sigma_N);\n",
    "print('scaled identity 3 true entropy', dist.entropy());\n",
    "\n",
    "fname = condir + 'scaled_identity_3.npz';\n",
    "np.savez(fname, contype=contype, Sigma_N=Sigma_N, T=T);\n",
    "\n",
    "# ****************************************************\n",
    "D = 4;\n",
    "contype = 'static';\n",
    "H = rvs(D);\n",
    "\n",
    "d = np.diag(np.exp(-np.arange(D)));\n",
    "Sigma_N = np.dot(H, np.dot(d, H.T));\n",
    "\n",
    "dist = multivariate_normal(np.zeros((D,)), Sigma_N);\n",
    "print('true entropy gaussian 4', dist.entropy());\n",
    "\n",
    "fname = condir + 'gaussian_4.npz';\n",
    "np.savez(fname, contype=contype, Sigma_N=Sigma_N, T=T);\n",
    "\n",
    "\n",
    "# ****************************************************\n",
    "D = 10;\n",
    "contype = 'static';\n",
    "H = rvs(D);\n",
    "\n",
    "d = np.diag(np.exp(-np.arange(D)));\n",
    "\n",
    "Sigma_N = np.dot(H, np.dot(d, H.T));\n",
    "\n",
    "dist = multivariate_normal(np.zeros((D,)), Sigma_N);\n",
    "print('true entropy gaussian 10', dist.entropy());\n",
    "T = 20;\n",
    "fname = condir + 'gaussian_10.npz';\n",
    "np.savez(fname, contype=contype, Sigma_N=Sigma_N, T=T);"
   ]
  },
  {
   "cell_type": "code",
   "execution_count": 2,
   "metadata": {},
   "outputs": [
    {
     "data": {
      "image/png": "[encoded data removed]",
      "text/plain": [
       "<matplotlib.figure.Figure at 0x1087dcc18>"
      ]
     },
     "metadata": {},
     "output_type": "display_data"
    },
    {
     "name": "stdout",
     "output_type": "stream",
     "text": [
      "true AR1 entropy 53.3253194441\n"
     ]
    }
   ],
   "source": [
    "# ****************************************************\n",
    "D = 2;\n",
    "contype = 'AR';\n",
    "AR_coeffs = np.array([[.95], [.95]]);\n",
    "T = 100;\n",
    "Sigma_N = np.eye(2);\n",
    "\n",
    "Sigma_DT = np.zeros((D*T, D*T));\n",
    "sigma_epsilon = np.zeros((D,));\n",
    "tau_targ = np.zeros((D,T));\n",
    "for i in range(D):\n",
    "    tau_targ[i,0] = Sigma_N[i,i];\n",
    "    for j in range(1, T):\n",
    "        tau_targ[i,j] = AR_coeffs[i]*tau_targ[i,j-1];\n",
    "    Sigma_Ti = np.zeros((T,T));\n",
    "    for ii in range(T):\n",
    "        for jj in range(ii,T):\n",
    "            Sigma_Ti[ii,jj] = tau_targ[i,jj-ii];\n",
    "            Sigma_Ti[jj,ii] = tau_targ[i,jj-ii];\n",
    "    Sigma_DT[i*T:((i+1)*T), i*T:((i+1)*T)] = Sigma_Ti;\n",
    "\n",
    "    explained_var = AR_coeffs[i]*tau_targ[i,1];\n",
    "    sigma_epsilon[i] = np.sqrt(tau_targ[i,0] - explained_var);\n",
    "    \n",
    "plt.figure();\n",
    "plt.imshow(Sigma_DT);\n",
    "plt.colorbar();\n",
    "plt.show();\n",
    "\n",
    "dist = multivariate_normal(np.zeros((D*T,)), Sigma_DT);\n",
    "print('true AR1 entropy', dist.entropy());\n",
    "\n",
    "fname = condir + 'AR1_%dD_strong.npz' % D;\n",
    "np.savez(fname, contype=contype, tau=tau_targ, Sigma_N=Sigma_N, sigma_epsilon=sigma_epsilon);\n"
   ]
  },
  {
   "cell_type": "code",
   "execution_count": 26,
   "metadata": {},
   "outputs": [
    {
     "data": {
      "image/png": "[encoded data removed]",
      "text/plain": [
       "<matplotlib.figure.Figure at 0x1147e29b0>"
      ]
     },
     "metadata": {},
     "output_type": "display_data"
    },
    {
     "name": "stdout",
     "output_type": "stream",
     "text": [
      "true AR1 entropy 255.307181468\n"
     ]
    }
   ],
   "source": [
    "# ****************************************************\n",
    "D = 2;\n",
    "contype = 'AR';\n",
    "AR_coeffs = np.array([[.5], [.5]]);\n",
    "T = 100;\n",
    "Sigma_N = np.eye(2);\n",
    "\n",
    "Sigma_DT = np.zeros((D*T, D*T));\n",
    "sigma_epsilon = np.zeros((D,));\n",
    "tau_targ = np.zeros((D,T));\n",
    "for i in range(D):\n",
    "    tau_targ[i,0] = Sigma_N[i,i];\n",
    "    for j in range(1, T):\n",
    "        tau_targ[i,j] = AR_coeffs[i]*tau_targ[i,j-1];\n",
    "    Sigma_Ti = np.zeros((T,T));\n",
    "    for ii in range(T):\n",
    "        for jj in range(ii,T):\n",
    "            Sigma_Ti[ii,jj] = tau_targ[i,jj-ii];\n",
    "            Sigma_Ti[jj,ii] = tau_targ[i,jj-ii];\n",
    "    Sigma_DT[i*T:((i+1)*T), i*T:((i+1)*T)] = Sigma_Ti;\n",
    "\n",
    "    explained_var = AR_coeffs[i]*tau_targ[i,1];\n",
    "    sigma_epsilon[i] = np.sqrt(tau_targ[i,0] - explained_var);\n",
    "    \n",
    "plt.figure();\n",
    "plt.imshow(Sigma_DT);\n",
    "plt.colorbar();\n",
    "plt.show();\n",
    "\n",
    "dist = multivariate_normal(np.zeros((D*T,)), Sigma_DT);\n",
    "print('true AR1 entropy', dist.entropy());\n",
    "\n",
    "fname = condir + '%dD_AR1_uncorr.npz' % D;\n",
    "np.savez(fname, contype=contype, tau=tau_targ, Sigma_N=Sigma_N, sigma_epsilon=sigma_epsilon);\n"
   ]
  },
  {
   "cell_type": "code",
   "execution_count": 9,
   "metadata": {},
   "outputs": [
    {
     "data": {
      "image/png": "[encoded data removed]",
      "text/plain": [
       "<matplotlib.figure.Figure at 0x1164abe48>"
      ]
     },
     "metadata": {},
     "output_type": "display_data"
    },
    {
     "name": "stdout",
     "output_type": "stream",
     "text": [
      "true AR1 entropy 24.3682937396\n"
     ]
    }
   ],
   "source": [
    "# ****************************************************\n",
    "D = 2;\n",
    "contype = 'AR';\n",
    "AR_coeffs = np.array([[.75], [.25]]);\n",
    "T = 10;\n",
    "Sigma_N = np.eye(2);\n",
    "\n",
    "Sigma_DT = np.zeros((D*T, D*T));\n",
    "sigma_epsilon = np.zeros((D,));\n",
    "tau_targ = np.zeros((D,T));\n",
    "for i in range(D):\n",
    "    tau_targ[i,0] = Sigma_N[i,i];\n",
    "    for j in range(1, T):\n",
    "        tau_targ[i,j] = AR_coeffs[i]*tau_targ[i,j-1];\n",
    "    Sigma_Ti = np.zeros((T,T));\n",
    "    for ii in range(T):\n",
    "        for jj in range(ii,T):\n",
    "            Sigma_Ti[ii,jj] = tau_targ[i,jj-ii];\n",
    "            Sigma_Ti[jj,ii] = tau_targ[i,jj-ii];\n",
    "    Sigma_DT[i*T:((i+1)*T), i*T:((i+1)*T)] = Sigma_Ti;\n",
    "\n",
    "    explained_var = AR_coeffs[i]*tau_targ[i,1];\n",
    "    sigma_epsilon[i] = np.sqrt(tau_targ[i,0] - explained_var);\n",
    "    \n",
    "plt.figure();\n",
    "plt.imshow(Sigma_DT);\n",
    "plt.colorbar();\n",
    "plt.show();\n",
    "\n",
    "dist = multivariate_normal(np.zeros((D*T,)), Sigma_DT);\n",
    "print('true AR1 entropy', dist.entropy());\n",
    "\n",
    "fname = condir + '%dD_AR1_uncorr_diff.npz' % D;\n",
    "np.savez(fname, contype=contype, tau=tau_targ, Sigma_N=Sigma_N, sigma_epsilon=sigma_epsilon);\n"
   ]
  },
  {
   "cell_type": "code",
   "execution_count": 36,
   "metadata": {},
   "outputs": [
    {
     "data": {
      "image/png": "[encoded data removed]",
      "text/plain": [
       "<matplotlib.figure.Figure at 0x114a74630>"
      ]
     },
     "metadata": {},
     "output_type": "display_data"
    },
    {
     "name": "stdout",
     "output_type": "stream",
     "text": [
      "true GP entropy -16.712427648\n"
     ]
    }
   ],
   "source": [
    "# ****************************************************\n",
    "def drawGP(tau, T, Ts):\n",
    "    Sigma_T = np.zeros((T,T));\n",
    "    for i in range(T):\n",
    "        for j in range(i,T):\n",
    "            diff = (i-j)*Ts;\n",
    "            Sigma_T[i,j] = np.exp(-(np.abs(diff)**2) / (2*(tau**2)));\n",
    "            if (i != j):\n",
    "                Sigma_T[j,i] = Sigma_T[i,j];\n",
    "    mu = np.zeros((T,));\n",
    "    x = np.random.multivariate_normal(mu, Sigma_T);\n",
    "    return x;\n",
    "\n",
    "def GPcov(tau, T, Ts):\n",
    "    Sigma_T = np.zeros((T,T));\n",
    "    for i in range(T):\n",
    "        for j in range(i,T):\n",
    "            diff = (i-j)*Ts;\n",
    "            Sigma_T[i,j] = np.exp(-(np.abs(diff)**2) / (2*(tau**2)));\n",
    "            if (i != j):\n",
    "                Sigma_T[j,i] = Sigma_T[i,j];\n",
    "    return Sigma_T;\n",
    "\n",
    "D = 2;\n",
    "contype = 'AR';\n",
    "GP_coeffs = np.array([[2], [4]]);\n",
    "Ts = 1;\n",
    "T = 10;\n",
    "Sigma_N = np.eye(2);\n",
    "\n",
    "Sigma_DT = np.zeros((D*T, D*T));\n",
    "tau_targ = np.zeros((D,T));\n",
    "for i in range(D):\n",
    "    Sigma_Ti = GPcov(GP_coeffs[i], T, Ts);\n",
    "    Sigma_DT[i*T:((i+1)*T), i*T:((i+1)*T)] = Sigma_Ti; \n",
    "    tau_targ[i,:] = Sigma_Ti[0,:];\n",
    "Sigma_DT += .00001*np.eye(D*T);\n",
    "\n",
    "plt.figure();\n",
    "plt.imshow(Sigma_DT);\n",
    "plt.colorbar();\n",
    "plt.title('Ground Truth Covariance t=[0, ..., 9]', fontsize=16);\n",
    "plt.xlabel('d=1      |      d=2', fontsize=14);\n",
    "plt.ylabel('d=2      |      d=1', fontsize=14);\n",
    "plt.show();\n",
    "\n",
    "dist = multivariate_normal(np.zeros((D*T,)), Sigma_DT);\n",
    "print('true GP entropy', dist.entropy());\n",
    "#fname = condir + '%dD_GP_se_uncorr_diff.npz' % D;\n",
    "#np.savez(fname, contype=contype, tau=tau_targ, Sigma_N=Sigma_N, sigma_epsilon=sigma_epsilon);\n",
    "\n"
   ]
  },
  {
   "cell_type": "code",
   "execution_count": 6,
   "metadata": {},
   "outputs": [
    {
     "data": {
      "image/png": "[encoded data removed]",
      "text/plain": [
       "<matplotlib.figure.Figure at 0x1167003c8>"
      ]
     },
     "metadata": {},
     "output_type": "display_data"
    },
    {
     "name": "stderr",
     "output_type": "stream",
     "text": [
      "/Library/Frameworks/Python.framework/Versions/3.6/lib/python3.6/site-packages/ipykernel_launcher.py:38: RuntimeWarning: covariance is not positive-semidefinite.\n"
     ]
    }
   ],
   "source": [
    "# ****************************************************\n",
    "D = 2;\n",
    "contype = 'AR';\n",
    "AR_coeffs = np.array([[.5], [.5]]);\n",
    "T = 100;\n",
    "Sigma_N = np.array([[1.0, 0.5],[0.5, 1.0]]);\n",
    "\n",
    "Sigma_DT = np.zeros((D*T,D*T));\n",
    "tau_targ = np.zeros((D,T));\n",
    "sigma_epsilon = np.zeros((D,));\n",
    "for i in range(D):\n",
    "    tau_targ[i,0] = Sigma_N[i,i];\n",
    "    for j in range(1, T):\n",
    "        tau_targ[i,j] = AR_coeffs[i]*tau_targ[i,j-1];\n",
    "    Sigma_Ti = np.zeros((T,T));\n",
    "    for ii in range(T):\n",
    "        for jj in range(ii,T):\n",
    "            Sigma_Ti[ii,jj] = tau_targ[i,jj-ii];\n",
    "            Sigma_Ti[jj,ii] = tau_targ[i,jj-ii];\n",
    "    Sigma_DT[i*T:((i+1)*T), i*T:((i+1)*T)] = Sigma_Ti;\n",
    "\n",
    "    explained_var = AR_coeffs[i]*tau_targ[i,1];\n",
    "    sigma_epsilon[i] = np.sqrt(tau_targ[i,0] - explained_var);\n",
    "for i in range(D):\n",
    "    for j in range(i+1, D):\n",
    "        for ii in range(T):\n",
    "            Sigma_DT[i*T+ii, j*T+ii] = Sigma_N[i,j]-.01;\n",
    "            Sigma_DT[j*T+ii, i*T+ii] = Sigma_N[j,i]-.01;\n",
    "\n",
    "plt.figure();\n",
    "plt.imshow(Sigma_DT);\n",
    "plt.colorbar();\n",
    "plt.show();\n",
    "\n",
    "\n",
    "mean = np.zeros((D*T,));\n",
    "w, v = np.linalg.eig(Sigma_DT);\n",
    "x = np.random.multivariate_normal(mean, Sigma_DT);\n",
    "\n",
    "fname = condir + 'AR1_corr_%dD_medium.npz' % D;\n",
    "np.savez(fname, contype=contype, tau=tau_targ, Sigma_N=Sigma_N, sigma_epsilon=sigma_epsilon);\n"
   ]
  },
  {
   "cell_type": "code",
   "execution_count": 10,
   "metadata": {},
   "outputs": [
    {
     "data": {
      "image/png": "[encoded data removed]",
      "text/plain": [
       "<matplotlib.figure.Figure at 0x108a08898>"
      ]
     },
     "metadata": {},
     "output_type": "display_data"
    }
   ],
   "source": [
    "# ****************************************************\n",
    "D = 2;\n",
    "contype = 'AR';\n",
    "AR_coeffs = np.array([[.6], [.3]]);\n",
    "T = 10;\n",
    "Sigma_N = np.array([[1.0, 0.5],[0.5, 1.0]]);\n",
    "\n",
    "sigma_epsilon = np.zeros((D,));\n",
    "tau_targ = np.zeros((D,T));\n",
    "for i in range(D):\n",
    "    tau_targ[i,0] = Sigma_N[i,i];\n",
    "    for j in range(1, T):\n",
    "        tau_targ[i,j] = AR_coeffs[i]*tau_targ[i,j-1];\n",
    "    explained_var = AR_coeffs[i]*tau_targ[i,1];\n",
    "    sigma_epsilon[i] = np.sqrt(tau_targ[i,0] - explained_var);\n",
    "\n",
    "\n",
    "fname = condir + 'AR1_corr_%dD_%dT_diff.npz' % (D, T);\n",
    "np.savez(fname, contype=contype, tau=tau_targ, Sigma_N=Sigma_N, T=T, Ts=Ts, sigma_epsilon=sigma_epsilon);\n"
   ]
  },
  {
   "cell_type": "code",
   "execution_count": 3,
   "metadata": {},
   "outputs": [
    {
     "data": {
      "image/png": "[encoded data removed]",
      "text/plain": [
       "<matplotlib.figure.Figure at 0x1143799e8>"
      ]
     },
     "metadata": {},
     "output_type": "display_data"
    },
    {
     "name": "stdout",
     "output_type": "stream",
     "text": [
      "[[ 1.          0.75        0.5625      0.421875    0.31640625]\n",
      " [ 1.          0.25        0.0625      0.015625    0.00390625]]\n",
      "[ 0.66143783  0.96824584]\n",
      "true entropy 12.4069511434\n"
     ]
    }
   ],
   "source": [
    "# compute entropy\n",
    "D = 2;\n",
    "contype = 'AR';\n",
    "AR_coeffs = np.array([[.75], [.25]]);\n",
    "T = 5;\n",
    "Sigma_N = np.eye(2);\n",
    "\n",
    "Sigma_DT = np.zeros((D*T, D*T));\n",
    "sigma_epsilon = np.zeros((D,));\n",
    "tau_targ = np.zeros((D,T));\n",
    "for i in range(D):\n",
    "    tau_targ[i,0] = Sigma_N[i,i];\n",
    "    for j in range(1, T):\n",
    "        tau_targ[i,j] = AR_coeffs[i]*tau_targ[i,j-1];\n",
    "    Sigma_Ti = np.zeros((T,T));\n",
    "    for ii in range(T):\n",
    "        for jj in range(ii,T):\n",
    "            Sigma_Ti[ii,jj] = tau_targ[i,jj-ii];\n",
    "            Sigma_Ti[jj,ii] = tau_targ[i,jj-ii];\n",
    "    Sigma_DT[i*T:((i+1)*T), i*T:((i+1)*T)] = Sigma_Ti;\n",
    "\n",
    "    explained_var = AR_coeffs[i]*tau_targ[i,1];\n",
    "    sigma_epsilon[i] = np.sqrt(tau_targ[i,0] - explained_var);\n",
    "    \n",
    "plt.figure();\n",
    "plt.imshow(Sigma_DT, vmin=0, vmax=1.0);\n",
    "plt.colorbar();\n",
    "plt.title('Ground Truth Covariance t=[0, ..., 9]', fontsize=16);\n",
    "plt.xlabel('d=1      |      d=2', fontsize=14);\n",
    "plt.ylabel('d=2      |      d=1', fontsize=14);\n",
    "plt.show();\n",
    "\n",
    "print(tau_targ)\n",
    "print(sigma_epsilon)\n",
    "\n",
    "dist = multivariate_normal(np.zeros((D*T,)), Sigma_DT);\n",
    "print('true entropy', dist.entropy());"
   ]
  },
  {
   "cell_type": "code",
   "execution_count": null,
   "metadata": {
    "collapsed": true
   },
   "outputs": [],
   "source": [
    "np.linalg.inv(1e-20*np.eye(100))"
   ]
  },
  {
   "cell_type": "code",
   "execution_count": null,
   "metadata": {
    "collapsed": true
   },
   "outputs": [],
   "source": []
  }
 ],
 "metadata": {
  "kernelspec": {
   "display_name": "Python 3",
   "language": "python",
   "name": "python3"
  },
  "language_info": {
   "codemirror_mode": {
    "name": "ipython",
    "version": 3
   },
   "file_extension": ".py",
   "mimetype": "text/x-python",
   "name": "python",
   "nbconvert_exporter": "python",
   "pygments_lexer": "ipython3",
   "version": "3.6.1"
  }
 },
 "nbformat": 4,
 "nbformat_minor": 2
}
